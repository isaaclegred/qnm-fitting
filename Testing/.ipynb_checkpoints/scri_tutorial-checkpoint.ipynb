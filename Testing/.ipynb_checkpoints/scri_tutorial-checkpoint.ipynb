{
 "cells": [
  {
   "cell_type": "markdown",
   "metadata": {},
   "source": [
    "# `scri` Tutorial\n",
    "---"
   ]
  },
  {
   "cell_type": "code",
   "execution_count": 37,
   "metadata": {},
   "outputs": [],
   "source": [
    "import numpy as np\n",
    "import matplotlib.pyplot as plt\n",
    "import scri\n",
    "import quaternion\n",
    "from spherical_functions import LM_index as lm # for easily accessing mode data\n",
    "import spherical_functions\n",
    "from mpl_toolkits import mplot3d\n",
    "from matplotlib import animation\n",
    "import mpl_toolkits.mplot3d.axes3d as p3\n",
    "%matplotlib inline\n",
    "\n",
    "# This is the band-aid until the Numba bug is fixed:\n",
    "#from numba.errors import NumbaWarning, NumbaDeprecationWarning, NumbaPendingDeprecationWarning\n",
    "#import warnings\n",
    "#warnings.simplefilter('ignore', category=NumbaWarning)\n",
    "#warnings.simplefilter('ignore', category=NumbaDeprecationWarning)\n",
    "#warnings.simplefilter('ignore', category=NumbaPendingDeprecationWarning)"
   ]
  },
  {
   "cell_type": "markdown",
   "metadata": {},
   "source": [
    "To access the documentation for any function or object in `scri`, you can call `help(...)` on it.\n",
    "\n",
    "The basic object in `scri` is the `WaveformModes` object, which stores the coefficients of a waveform\n",
    "that has been expanded in spin-weighted spherical harmonics (SWSHs). "
   ]
  },
  {
   "cell_type": "code",
   "execution_count": 10,
   "metadata": {},
   "outputs": [
    {
     "name": "stdout",
     "output_type": "stream",
     "text": [
      "Help on class WaveformModes in module scri.waveform_modes:\n",
      "\n",
      "class WaveformModes(scri.waveform_base.WaveformBase)\n",
      " |  WaveformModes(*args, **kwargs)\n",
      " |  \n",
      " |  Object containing time, frame, and data, along with related information\n",
      " |  \n",
      " |  This object collects all the data needed to manipulate time-series of spin-weighted spherical-harmonic modes of\n",
      " |  gravitational waves, as well as a few useful informational members.  Various methods exist to manipulate the data\n",
      " |  and extract important information.\n",
      " |  \n",
      " |  As much as possible, completeness of modes is enforced -- meaning that if any (ell,m) mode with a given ell is\n",
      " |  included in the data, all modes with abs(m)<=ell must also be included.  The data are stored as complex numbers,\n",
      " |  and assumed to be in standard order corresponding to\n",
      " |  \n",
      " |      [f(ell,m) for ell in range(ell_min, ell_max+1) for m in range(-ell,ell+1)]\n",
      " |  \n",
      " |  There is no automated check that can be done to assure that the order is correct.  (Precession breaks all\n",
      " |  symmetries, for example.)  The only check that is done ensures that the input data array has the correct\n",
      " |  dimensions.  It is up to the user to ensure that the order is correct.\n",
      " |  \n",
      " |  Attributes\n",
      " |  ----------\n",
      " |  t : float array\n",
      " |      Time steps corresponding to other data\n",
      " |  frame : quaternion array\n",
      " |      Rotors taking static basis onto decomposition basis\n",
      " |  data : 2-d complex array\n",
      " |      Mode values of the spin-weighted spherical-harmonic decomposition. The array is assumed to have a first\n",
      " |      dimension equal to the length of `t`, and a second dimension equal to the number of modes as deduced from the\n",
      " |      values of ell_min and ell_max below.  As noted above, a very particular order is assumed for the data.\n",
      " |  ell_min : int\n",
      " |      Smallest ell value present in `data`.\n",
      " |  ell_max : int\n",
      " |      Largest ell value present in `data`.\n",
      " |  LM : int array (read only)\n",
      " |      Array of (ell,m) values corresponding to the `data` member.  This is automatically constructed based on the\n",
      " |      values of ell_min and ell_max, and cannot be reassigned.\n",
      " |  history : list of strings\n",
      " |      As far as possible, all functions applied to the object are recorded in the `history` variable.  In fact,\n",
      " |      the object should almost be able to be recreated using the commands in the history list. Commands taking\n",
      " |      large arrays, however, are shortened -- so the data will not be entirely reconstructable.\n",
      " |  frameType : int\n",
      " |      Index corresponding to `scri.FrameType` appropriate for `data`.\n",
      " |  dataType : int\n",
      " |      Index corresponding to `scri.DataType` appropriate for `data`.\n",
      " |  r_is_scaled_out : bool\n",
      " |      True if the `data` have been multiplied by the appropriate power of radius so that the asymptotic value can\n",
      " |      be finite and nonzero.\n",
      " |  m_is_scaled_out : bool\n",
      " |      True if the `data` have been scaled by the appropriate value of the total mass so that they are dimensionless.\n",
      " |  num : int (read only)\n",
      " |      Automatically assigned number of this object.  The constructor of this type keeps count of the number of\n",
      " |      objects it has created, to assign each object a more-or-less unique ID for use in the history strings.  This\n",
      " |      counter is reset at the beginning of each python session.  Subclasses should automatically have a different\n",
      " |      counter.\n",
      " |  \n",
      " |  Indexing\n",
      " |  --------\n",
      " |  WaveformMode objects can be indexed much like a numpy array, where the first dimension gives the time indices,\n",
      " |  and the second gives the mode indices. This will return another WaveformMode object containing slices of the\n",
      " |  original data.\n",
      " |  \n",
      " |  It is important to note, however, that as with numpy array slices, slicing a WaveformMode object will not\n",
      " |  typically copy the original data; the result will simply be a view into the data.  This means that changing the\n",
      " |  data in the slice can change the data in the original.  If you want to make a copy, you should probably use the\n",
      " |  copy constructor: `W2 = WaveformMode(W1)`. It is also possible to use the standard copy.deepcopy method.\n",
      " |  \n",
      " |  Also note that the first slice dimension corresponds to the indices of the time data, but the second dimension\n",
      " |  does NOT correspond to indices.  Instead, because this object tries to enforce completeness of the mode data,\n",
      " |  you can only slice a WaveformBase with respect to modes.  If you really want just some of the data, you'll need\n",
      " |  to extract it as a plain array, and then just slice as usual.\n",
      " |  \n",
      " |  For example,\n",
      " |  \n",
      " |  >>> W  = WaveformModes()\n",
      " |  >>> W[10:-20]\n",
      " |  \n",
      " |  will give all modes in the data, but only at times starting with the 10th time step, and ending one before the\n",
      " |  -20th time step.  Meanwhile,\n",
      " |  \n",
      " |  >>> W[10:-20,2]\n",
      " |  \n",
      " |  will give the same range of times, but only the ell=2 modes -- which includes (ell,m) modes (2,-2) through (2, 2).\n",
      " |  Similarly,\n",
      " |  \n",
      " |  >>> W[10:-20,2:5]\n",
      " |  \n",
      " |  will return the same range of times, along with the ell=2,3,4 modes. Note the lack of ell=5 mode, for consistency\n",
      " |  with python's usual slice syntax.\n",
      " |  \n",
      " |  >>> W[:,:0]\n",
      " |  \n",
      " |  will return all time steps, along with all `frame` data, but the `lm` data and `data` will be empty (because the\n",
      " |  `:0` term selects everything before the 0th element).  Similarly,\n",
      " |  \n",
      " |  >>> W[:0,:0]\n",
      " |  \n",
      " |  is empty of all the numerical data.\n",
      " |  \n",
      " |  Method resolution order:\n",
      " |      WaveformModes\n",
      " |      scri.waveform_base.WaveformBase\n",
      " |      scri.waveform_base._object\n",
      " |      builtins.object\n",
      " |  \n",
      " |  Methods defined here:\n",
      " |  \n",
      " |  LLComparisonMatrix(W1, W2)\n",
      " |      Calculate the <LL> quantity with respect to the modes of two Waveforms\n",
      " |      \n",
      " |      The matrix is given in the (possibly rotating) mode frame (X,Y,Z),\n",
      " |      rather than the inertial frame (x,y,z).\n",
      " |      \n",
      " |      <LL>^{ab} = \\sum_{\\ell,m,m'} \\bar{f}^{\\ell,m'} < \\ell,m' | L_a L_b | \\ell,m > g^{\\ell,m}\n",
      " |  \n",
      " |  LLDominantEigenvector(W, RoughDirection=array([0., 0., 1.]), RoughDirectionIndex=0)\n",
      " |      Calculate the principal axis of the LL matrix\n",
      " |      \n",
      " |      \\param Lmodes L modes to evaluate (optional)\n",
      " |      \\param RoughDirection Vague guess about the preferred initial (optional)\n",
      " |      \n",
      " |      If Lmodes is empty (default), all L modes are used.  Setting\n",
      " |      Lmodes to [2] or [2,3,4], for example, restricts the range of\n",
      " |      the sum.\n",
      " |      \n",
      " |      Ell is the direction of the angular velocity for a PN system, so\n",
      " |      some rough guess about that direction allows us to choose the\n",
      " |      direction of the eigenvectors output by this function to be more\n",
      " |      parallel than anti-parallel to that direction.  The default is\n",
      " |      to simply choose the z axis, since this is most often the\n",
      " |      correct choice anyway.\n",
      " |      \n",
      " |      The vector is given in the (possibly rotating) mode frame\n",
      " |      (X,Y,Z), rather than the inertial frame (x,y,z).\n",
      " |  \n",
      " |  LLMatrix(W)\n",
      " |      Calculate the <LL> quantity with respect to the modes\n",
      " |      \n",
      " |      The matrix is given in the (possibly rotating) mode frame (X,Y,Z),\n",
      " |      rather than the inertial frame (x,y,z).\n",
      " |      \n",
      " |      This quantity is as prescribed by O'Shaughnessy et al.\n",
      " |      <http://arxiv.org/abs/1109.5224>, except that no normalization is\n",
      " |      imposed, and this operates on whatever type of data is input.\n",
      " |      \n",
      " |      <LL>^{ab} = Re \\{ \\sum_{\\ell,m,m'} \\bar{f}^{\\ell,m'} < \\ell,m' | L_a L_b | \\ell,m > f^{\\ell,m} \\}\n",
      " |  \n",
      " |  LVector(W1, W2)\n",
      " |      Calculate the <L> quantity with respect to the modes\n",
      " |      \n",
      " |      The vector is given in the (possibly rotating) mode frame (X,Y,Z),\n",
      " |      rather than the inertial frame (x,y,z).\n",
      " |      \n",
      " |      <L>^{a} = \\sum_{\\ell,m,m'} \\bar{f}^{\\ell,m'} < \\ell,m' | L_a | \\ell,m > g^{\\ell,m}\n",
      " |  \n",
      " |  LdtVector(W)\n",
      " |      Calculate the <Ldt> quantity with respect to the modes\n",
      " |      \n",
      " |      The vector is given in the (possibly rotating) mode frame (X,Y,Z),\n",
      " |      rather than the inertial frame (x,y,z).\n",
      " |      \n",
      " |      <Ldt>^{a} = \\sum_{\\ell,m,m'} \\bar{f}^{\\ell,m'} < \\ell,m' | L_a | \\ell,m > (df/dt)^{\\ell,m}\n",
      " |  \n",
      " |  __getitem__(self, key)\n",
      " |      Extract subsets of the data efficiently\n",
      " |      \n",
      " |      Note that if a second index is given to this function, it corresponds to modes, rather than data indices. See\n",
      " |      the docstring of the WaveformModes class for examples.\n",
      " |  \n",
      " |  __init__(self, *args, **kwargs)\n",
      " |      Initializer for WaveformModes object\n",
      " |      \n",
      " |      This initializer is primarily a wrapper around the WaveformBase initializer.  See the docstring of\n",
      " |      WaveformBase for more details.  The only difference in calling is that this takes two additional keyword\n",
      " |      parameters:\n",
      " |      \n",
      " |      Keyword parameters\n",
      " |      ------------------\n",
      " |      ell_min : int, defaults to 0\n",
      " |      ell_max : int, defaults to -1\n",
      " |  \n",
      " |  __repr__(self)\n",
      " |      Return repr(self).\n",
      " |  \n",
      " |  align_decomposition_frame_to_modes(w, t_fid, nHat_t_fid=quaternion(0, 1, 0, 0), ell_max=None)\n",
      " |      Fix the attitude of the corotating frame.\n",
      " |      \n",
      " |      The corotating frame is only defined up to some constant rotor\n",
      " |      R_eps; if R_corot is corotating, then so is R_corot*R_eps.  This\n",
      " |      function uses that freedom to ensure that the frame is aligned\n",
      " |      with the Waveform modes at the fiducial time.  In particular, it\n",
      " |      ensures that the Z axis of the frame in which the decomposition\n",
      " |      is done is along the dominant eigenvector of the <LL> matrix\n",
      " |      (suggested by O'Shaughnessy et al.), and the phase of the (2,2)\n",
      " |      mode is zero.\n",
      " |      \n",
      " |      If ell_max is None (default), all ell modes are used.\n",
      " |      \n",
      " |      Parameters\n",
      " |      ----------\n",
      " |      w: WaveformModes\n",
      " |          Object to be aligned\n",
      " |      t_fid: float\n",
      " |          Fiducial time at which the alignment should happen\n",
      " |      nHat_t_fid: quaternion (optional)\n",
      " |          The approximate direction of nHat at t_fid; defaults to x\n",
      " |      ell_max: int\n",
      " |         Highest ell mode to use in computing the <LL> matrix\n",
      " |  \n",
      " |  angular_momentum_flux(h, hdot=None)\n",
      " |      Compute angular momentum flux from waveform\n",
      " |      \n",
      " |      This implements Eq. (2.24) from Ruiz+ (2008) [0707.4654] by using `matrix_expectation_value`\n",
      " |      with (internal) helper functions `j_z`, `j_plus`, and `j_minus`.\n",
      " |  \n",
      " |  angular_velocity(W, include_frame_velocity=False)\n",
      " |      Angular velocity of Waveform\n",
      " |      \n",
      " |      This function calculates the angular velocity of a Waveform object from\n",
      " |      its modes.  This was introduced in Sec. II of \"Angular velocity of\n",
      " |      gravitational radiation and the corotating frame\"\n",
      " |      <http://arxiv.org/abs/1302.2919>.  Essentially, this is the angular\n",
      " |      velocity of the rotating frame in which the time dependence of the modes\n",
      " |      is minimized.\n",
      " |      \n",
      " |      The vector is given in the (possibly rotating) mode frame (X,Y,Z),\n",
      " |      which is not necessarily equal to the inertial frame (x,y,z).\n",
      " |  \n",
      " |  apply_eth(self, operations, eth_convention='NP')\n",
      " |      Apply spin raising/lowering operators to waveform mode data\n",
      " |      in a specified order.  This does not modify the original\n",
      " |      waveform object.\n",
      " |      \n",
      " |      Parameters\n",
      " |      ----------\n",
      " |      operations: list or str composed of +1, -1, '+', '-', 'ð', or 'ð̅'\n",
      " |          The order of eth (+1, '+', or 'ð') and\n",
      " |          ethbar (-1, '-', or 'ð̅') operations to perform, applied from right to\n",
      " |          left. Example, operations='--+' will perform on WaveformModes data f the operation\n",
      " |          ethbar(ethbar(eth(f))).  Note that the order of operations is right-to-left.\n",
      " |      eth_convention: either 'NP' or 'GHP' [default: 'NP']\n",
      " |          Choose between Newman-Penrose or Geroch-Held-Penrose convention\n",
      " |      \n",
      " |      Returns\n",
      " |      -------\n",
      " |      mode_data: array of complex\n",
      " |          Note that the returned data has the same shape as this object's `data` attribute, and\n",
      " |          the modes correspond to the same (ell, m) values.  In particular, if the spin weight\n",
      " |          changes, the output data will no longer satisfy the expectation that ell_min == abs(s).\n",
      " |  \n",
      " |  copy_without_data(self)\n",
      " |      Return a copy of the object, with empty `t`, `frame`, and `data` fields\n",
      " |      \n",
      " |      Note that subclasses may override this to set some related data members.  For example,\n",
      " |      `WaveformModes.copy_without_data` sets the `ell_min` and `ell_max` fields appropriately.  If you wish to only\n",
      " |      skip `t`, `frame`, and `data`, you can simply use `WaveformBase.copy_without_data(W)`.  The latter is useful\n",
      " |      if, for example, you will only be making changes to those three fields, and want everything else preserved.\n",
      " |      \n",
      " |      Also note that some slicing operations can achieve similar -- but different -- goals.  For example,\n",
      " |      `w = w[:, :0]` will simply empty `data` and `ells`, without affecting the `time` and `frame`.\n",
      " |  \n",
      " |  energy_flux(h)\n",
      " |      Compute energy flux from waveform\n",
      " |      \n",
      " |      This implements Eq. (2.8) from Ruiz+ (2008) [0707.4654].\n",
      " |  \n",
      " |  ensure_validity(self, alter=True, assertions=False)\n",
      " |      Try to ensure that the `WaveformModes` object is valid\n",
      " |      \n",
      " |      See `WaveformBase.ensure_validity` for the basic tests.  This function also includes tests that `data` is\n",
      " |      complex, and consistent with the ell_min and ell_max values.\n",
      " |  \n",
      " |  index(self, ell, m)\n",
      " |      Index of given (ell,m) mode in the data\n",
      " |      \n",
      " |      Parameters\n",
      " |      ----------\n",
      " |      ell: int\n",
      " |      m: int\n",
      " |      \n",
      " |      Returns\n",
      " |      -------\n",
      " |      idx: int\n",
      " |          Index such that self.LM[idx] is [ell, m]\n",
      " |  \n",
      " |  indices(self, ell_m)\n",
      " |      Indices of given (ell,m) modes in the data\n",
      " |      \n",
      " |      Parameters\n",
      " |      ----------\n",
      " |      ell_m: Nx2 array-like, int\n",
      " |      \n",
      " |      Returns\n",
      " |      -------\n",
      " |      idcs: array of int\n",
      " |          Index such that self.LM[idcs] is `ell_m`\n",
      " |  \n",
      " |  inner_product(self, b, t1=None, t2=None, allow_LM_differ=False, allow_times_differ=False)\n",
      " |      Compute the all-angles inner product <self, b>.\n",
      " |      \n",
      " |      self and b should have the same spin-weight, set of (ell,m)\n",
      " |      modes, and times.  Differing sets of modes and times can\n",
      " |      optionally be turned on.\n",
      " |      \n",
      " |      Parameters\n",
      " |      ----------\n",
      " |      b : WaveformModes object\n",
      " |          The other set of modes to inner product with.\n",
      " |      \n",
      " |      t1 : float, optional [default: None]\n",
      " |      t2 : float, optional [default: None]\n",
      " |          Lower and higher bounds of time integration\n",
      " |      \n",
      " |      allow_LM_differ : bool, optional [default: False]\n",
      " |          If True and if the set of (ell,m) modes between self and b\n",
      " |          differ, then the inner product will be computed using the\n",
      " |          intersection of the set of modes.\n",
      " |      \n",
      " |      allow_times_differ: bool, optional [default: False]\n",
      " |          If True and if the set of times between self and b differ,\n",
      " |          then both WaveformModes will be interpolated to the\n",
      " |          intersection of the set of times.\n",
      " |      \n",
      " |      Returns\n",
      " |      -------\n",
      " |      inner_product : complex\n",
      " |          <self, b>\n",
      " |  \n",
      " |  ladder_factor(self, operations, s, ell, eth_convention='NP')\n",
      " |      Compute the 'ladder factor' for applying a sequence of spin\n",
      " |      raising/lower operations on a SWSH of given s, ell.\n",
      " |      \n",
      " |      Parameters\n",
      " |      ----------\n",
      " |      operations: list or str composed of +1, -1, '+', '-', 'ð', or 'ð̅'\n",
      " |          The order of eth (+1, '+', or 'ð') and\n",
      " |          ethbar (-1, '-', or 'ð̅') operations to perform, applied from right to\n",
      " |          left. Example, operations='--+' will perform on WaveformModes data f the operation\n",
      " |          ethbar(ethbar(eth(f))).  Note that the order of operations is right-to-left.\n",
      " |      eth_convention: either 'NP' or 'GHP' [default: 'NP']\n",
      " |          Choose between Newman-Penrose or Geroch-Held-Penrose convention\n",
      " |      \n",
      " |      Returns\n",
      " |      -------\n",
      " |      float\n",
      " |  \n",
      " |  momentum_flux(h)\n",
      " |      Compute momentum flux from waveform\n",
      " |      \n",
      " |      This implements Eq. (2.11) from Ruiz+ (2008) [0707.4654] by using `matrix_expectation_value`\n",
      " |      with `p_z`, `p_plus`, and `p_minus`.\n",
      " |  \n",
      " |  poincare_fluxes(h, hdot=None)\n",
      " |      Compute fluxes of energy, momentum, and angular momemntum. This\n",
      " |      function will compute the time derivative 1 or 0 times (if an\n",
      " |      optional argument is passed) so is more efficient than separate\n",
      " |      calls to `energy_flux`, `momentum_flux`, and\n",
      " |      `angular_momentum_flux`.\n",
      " |      \n",
      " |      Parameters\n",
      " |      ----------\n",
      " |      h : WaveformModes object\n",
      " |          Must have type `h`\n",
      " |      \n",
      " |      hdot : WaveformModes object, optional [default: None]\n",
      " |          The time derivative of h.  If None, computed from h.  Must\n",
      " |          have type `hdot`.\n",
      " |      \n",
      " |      Returns\n",
      " |      -------\n",
      " |      edot, pdot, jdot : ndarray, ndarray, ndarray\n",
      " |  \n",
      " |  rotate_decomposition_basis(W, R_basis)\n",
      " |      Rotate a Waveform in place\n",
      " |      \n",
      " |      This function takes a Waveform object `W` and either a quaternion\n",
      " |      or array of quaternions `R_basis`.  It applies that rotation to\n",
      " |      the decomposition basis of the modes in the Waveform.  The change\n",
      " |      in basis is also recorded in the Waveform's `frame` data.\n",
      " |      \n",
      " |      For more information on the analytical details, see\n",
      " |      http://moble.github.io/spherical_functions/SWSHs.html#rotating-swshs\n",
      " |  \n",
      " |  rotate_physical_system(W, R_phys)\n",
      " |      Rotate a Waveform in place\n",
      " |      \n",
      " |      This just rotates the decomposition basis by the inverse of the input\n",
      " |      rotor(s).  See `rotate_decomposition_basis`.\n",
      " |      \n",
      " |      For more information on the analytical details, see\n",
      " |      http://moble.github.io/spherical_functions/SWSHs.html#rotating-swshs\n",
      " |  \n",
      " |  to_coprecessing_frame(W, RoughDirection=array([0., 0., 1.]), RoughDirectionIndex=None)\n",
      " |      Transform waveform (in place) to a coprecessing frame\n",
      " |      \n",
      " |      Parameters\n",
      " |      ==========\n",
      " |      W: waveform\n",
      " |          Waveform object to be transformed in place.\n",
      " |      RoughDirection: 3-array [defaults to np.array([0.0, 0.0, 1.0])]\n",
      " |          Vague guess about the preferred initial axis, to choose the sign of the eigenvectors.\n",
      " |      RoughDirectionIndex: int or None [defaults to None]\n",
      " |          Time index at which to apply RoughDirection guess.\n",
      " |  \n",
      " |  to_corotating_frame(W, R0=quaternion(1, 0, 0, 0), tolerance=1e-12, z_alignment_region=None, return_omega=False)\n",
      " |      Transform waveform (in place) to a corotating frame\n",
      " |      \n",
      " |      Parameters\n",
      " |      ==========\n",
      " |      W: waveform\n",
      " |          Waveform object to be transformed in place\n",
      " |      R0: quaternion [defaults to 1]\n",
      " |          Initial value of frame when integrating angular velocity\n",
      " |      tolerance: float [defaults to 1e-12]\n",
      " |          Absolute tolerance used in integration of angular velocity\n",
      " |      z_alignment_region: None or 2-tuple of floats [defaults to None]\n",
      " |          If not None, the dominant eigenvector of the <LL> matrix is aligned with the z axis,\n",
      " |          averaging over this portion of the data.  The first and second elements of the input are\n",
      " |          considered fractions of the inspiral at which to begin and end the average.  For example,\n",
      " |          (0.1, 0.9) would lead to starting 10% of the time from the first time step to the max norm\n",
      " |          time, and ending at 90% of that time.\n",
      " |      return_omega: bool [defaults to False]\n",
      " |          If True, return a 2-tuple consisting of the waveform in the corotating frame (the usual\n",
      " |          returned object) and the angular-velocity data.  That is frequently also needed, so this is\n",
      " |          just a more efficient way of getting the data.\n",
      " |  \n",
      " |  to_grid lambda w_modes, **kwargs\n",
      " |      Construct grid object from modes, with optional BMS transformation\n",
      " |      \n",
      " |      This \"constructor\" is designed with the goal of transforming the frame in which the modes are measured.  If\n",
      " |      this is not desired, it can be called without those parameters.\n",
      " |      \n",
      " |      It is important to note that the input transformation parameters are applied in the order listed in the\n",
      " |      parameter list below:\n",
      " |        1. (Super)Translations\n",
      " |        2. Rotation (about the origin of the translated system)\n",
      " |        3. Boost\n",
      " |      All input parameters refer to the transformation required to take the mode's inertial frame onto the inertial\n",
      " |      frame of the grid's inertial observers.  In what follows, the inertial frame of the modes will be unprimed,\n",
      " |      while the inertial frame of the grid will be primed.\n",
      " |      \n",
      " |      The translations (space, time, spacetime, or super) can be given in various ways, which may override each\n",
      " |      other.  Ultimately, however, they are essentially combined into a single function `alpha`, representing the\n",
      " |      supertranslation, which transforms the asymptotic time variable `u` as\n",
      " |        u'(theta, phi) = u - alpha(theta, phi)\n",
      " |      A simple time translation would correspond to\n",
      " |        alpha(theta, phi) = time_translation\n",
      " |      A pure spatial translation would correspond to\n",
      " |        alpha(theta, phi) = np.dot(space_translation, -nhat(theta, phi))\n",
      " |      where `np.dot` is the usual dot product, and `nhat` is the unit vector in the given direction.\n",
      " |      \n",
      " |      \n",
      " |      Parameters\n",
      " |      ----------\n",
      " |      w_modes : WaveformModes\n",
      " |          The object storing the modes of the original waveform, which will be converted to values on a grid in\n",
      " |          this function.  This is the only required argument to this function.\n",
      " |      n_theta : int, optional\n",
      " |      n_phi : int, optional\n",
      " |          Number of points in the equi-angular grid in the colatitude (theta) and azimuth (phi) directions. Each\n",
      " |          defaults to 2*ell_max+1, which is optimal for accuracy and speed.  However, this ell_max will typically\n",
      " |          be greater than the input waveform's ell_max by at least one, or the ell_max of the input\n",
      " |          supertranslation (whichever is greater).  This is to minimally account for the power at higher orders\n",
      " |          that such a supertranslation introduces.  You may wish to increase this further if the spatial size of\n",
      " |          your supertranslation is large compared to the smallest wavelength you wish to capture in your data\n",
      " |          [e.g., ell_max*Omega_orbital_max/speed_of_light], or if your boost speed is close to the speed of light.\n",
      " |      time_translation : float, optional\n",
      " |          Defaults to zero.  Nonzero overrides spacetime_translation and supertranslation.\n",
      " |      space_translation : float array of length 3, optional\n",
      " |          Defaults to empty (no translation).  Non-empty overrides spacetime_translation and supertranslation.\n",
      " |      spacetime_translation : float array of length 4, optional\n",
      " |          Defaults to empty (no translation).  Non-empty overrides supertranslation.\n",
      " |      supertranslation : complex array, optional\n",
      " |          This gives the complex components of the spherical-harmonic expansion of the supertranslation in standard\n",
      " |          form, starting from ell=0 up to some ell_max, which may be different from the ell_max of the input\n",
      " |          WaveformModes object.  Supertranslations must be real, so these values must obey the condition\n",
      " |            alpha^{ell,m} = (-1)^mar{alpha}^{ell,-m}\n",
      " |          Defaults to empty, which causes no supertranslation.\n",
      " |      frame_rotation : quaternion, optional\n",
      " |          Transformation applied to (x,y,z) basis of the mode's inertial frame.  For example, the basis z vector of\n",
      " |          the new grid frame may be written as\n",
      " |            z' = frame_rotation * z * frame_rotation.inverse()\n",
      " |          Defaults to 1, corresponding to the identity transformation (no frame_rotation).\n",
      " |      boost_velocity : float array of length 3, optional\n",
      " |          This is the three-velocity vector of the grid frame relative to the mode frame.  The norm of this vector\n",
      " |          is checked to ensure that it is smaller than 1.  Defaults to [], corresponding to no boost.\n",
      " |      \n",
      " |      Returns\n",
      " |      -------\n",
      " |      WaveformGrid\n",
      " |  \n",
      " |  to_inertial_frame(W)\n",
      " |  \n",
      " |  transform lambda w_mode, **kwargs\n",
      " |      Transform modes by some BMS transformation\n",
      " |      \n",
      " |      This simply applies the `WaveformGrid.from_modes` function, followed by the `WaveformGrid.to_modes` function.\n",
      " |      See their respective docstrings for more details.  However, note that the `ell_max` parameter used in the\n",
      " |      second function call defaults here to the `ell_max` value in the input waveform.  This is slightly different\n",
      " |      from the usual default, because `WaveformGrid.from_modes` usually increases the effective ell value by 1.\n",
      " |  \n",
      " |  ----------------------------------------------------------------------\n",
      " |  Class methods defined here:\n",
      " |  \n",
      " |  from_grid lambda w_grid, ell_max from builtins.type\n",
      " |      Transform to modes of a spin-weighted spherical harmonic expansion\n",
      " |      \n",
      " |      Parameters\n",
      " |      ----------\n",
      " |      self : WaveformGrid object\n",
      " |          This is the object to be transformed to SWSH modes\n",
      " |      ell_max : int, optional\n",
      " |          The highest ell value to include in the output data.  Default value is deduced from n_theta and n_phi.\n",
      " |  \n",
      " |  ----------------------------------------------------------------------\n",
      " |  Data descriptors defined here:\n",
      " |  \n",
      " |  LM\n",
      " |      Array of (ell,m) values in Waveform data\n",
      " |      \n",
      " |      This array is just a flat array of `[ell,m]` pairs.  It is\n",
      " |      automatically recomputed each time `ell_min` or `ell_max` is\n",
      " |      changed.  Specifically, it is\n",
      " |      \n",
      " |          np.array([[ell,m]\n",
      " |                    for ell in range(self.ell_min,self.ell_max+1)\n",
      " |                    for m in range(-ell,ell+1)])\n",
      " |  \n",
      " |  ell_max\n",
      " |  \n",
      " |  ell_min\n",
      " |  \n",
      " |  ells\n",
      " |      Return self.ell_min,self.ell_max\n",
      " |  \n",
      " |  eth\n",
      " |      Returns the spin-raised waveform mode data.\n",
      " |  \n",
      " |  ethbar\n",
      " |      Returns the spin-lowered waveform mode data.\n",
      " |  \n",
      " |  n_modes\n",
      " |  \n",
      " |  parity_antisymmetric_part\n",
      " |      Component of waveform that changes sign under `parity_conjugate`\n",
      " |  \n",
      " |  parity_conjugate\n",
      " |      Reflect modes along all axes\n",
      " |      \n",
      " |      See \"Gravitational-wave modes from precessing black-hole binaries\" by\n",
      " |      Boyle et al. (2014) for more details.\n",
      " |  \n",
      " |  parity_symmetric_part\n",
      " |      Component of waveform invariant under `parity_conjugate`\n",
      " |  \n",
      " |  parity_violation_normalized\n",
      " |      Norm of parity-antisymmetric component divided by norm of waveform\n",
      " |  \n",
      " |  parity_violation_squared\n",
      " |      (Squared) norm of parity-antisymmetric component of waveform\n",
      " |  \n",
      " |  x_parity_antisymmetric_part\n",
      " |      Return component of waveform that changes sign under `x_parity_conjugate`\n",
      " |  \n",
      " |  x_parity_conjugate\n",
      " |      Reflect modes across y-z plane (along x axis)\n",
      " |      \n",
      " |      See \"Gravitational-wave modes from precessing black-hole binaries\" by\n",
      " |      Boyle et al. (2014) for more details.\n",
      " |  \n",
      " |  x_parity_symmetric_part\n",
      " |      Return component of waveform invariant under `x_parity_conjugate`\n",
      " |  \n",
      " |  x_parity_violation_normalized\n",
      " |      Norm of x-parity-antisymmetric component divided by norm of waveform\n",
      " |  \n",
      " |  x_parity_violation_squared\n",
      " |      (Squared) norm of x-parity-antisymmetric component of waveform\n",
      " |  \n",
      " |  y_parity_antisymmetric_part\n",
      " |      Component of waveform that changes sign under `y_parity_conjugate`\n",
      " |  \n",
      " |  y_parity_conjugate\n",
      " |      Reflect modes across x-z plane (along y axis)\n",
      " |      \n",
      " |      See \"Gravitational-wave modes from precessing black-hole binaries\" by\n",
      " |      Boyle et al. (2014) for more details.\n",
      " |  \n",
      " |  y_parity_symmetric_part\n",
      " |      Component of waveform invariant under `y_parity_conjugate`\n",
      " |  \n",
      " |  y_parity_violation_normalized\n",
      " |      Norm of y-parity-antisymmetric component divided by norm of waveform\n",
      " |  \n",
      " |  y_parity_violation_squared\n",
      " |      (Squared) norm of y-parity-antisymmetric component of waveform\n",
      " |  \n",
      " |  z_parity_antisymmetric_part\n",
      " |      Component of waveform that changes sign under `z_parity_conjugate`\n",
      " |  \n",
      " |  z_parity_conjugate\n",
      " |      Reflect modes across x-y plane (along z axis)\n",
      " |      \n",
      " |      See \"Gravitational-wave modes from precessing black-hole binaries\" by\n",
      " |      Boyle et al. (2014) for more details.\n",
      " |  \n",
      " |  z_parity_symmetric_part\n",
      " |      Component of waveform invariant under `z_parity_conjugate`\n",
      " |  \n",
      " |  z_parity_violation_normalized\n",
      " |      Norm of z-parity-antisymmetric component divided by norm of waveform\n",
      " |  \n",
      " |  z_parity_violation_squared\n",
      " |      (Squared) norm of z-parity-antisymmetric component of waveform\n",
      " |  \n",
      " |  ----------------------------------------------------------------------\n",
      " |  Methods inherited from scri.waveform_base.WaveformBase:\n",
      " |  \n",
      " |  SI_units(self, current_unit_mass_in_solar_masses, distance_from_source_in_megaparsecs=100)\n",
      " |      Assuming current quantities are in geometric units, convert to SI units\n",
      " |      \n",
      " |      This function assumes that the `dataType`, `r_is_scaled_out`, and `m_is_scaled_out` attributes are correct,\n",
      " |      then scales the amplitude and time data appropriately so that the data correspond to data that could be\n",
      " |      observed from a source with the given total mass at the given distance.\n",
      " |      \n",
      " |      Note that the curvature scalars will have units of s^-2, rather than the arguably more correct m^-2.  This\n",
      " |      seems to be more standard in numerical relativity.  The result can be divided by `scipy.constants.c**2`\n",
      " |      to give units of m^-2 if desired.\n",
      " |      \n",
      " |      Parameters\n",
      " |      ----------\n",
      " |      current_unit_mass_in_solar_masses : float\n",
      " |          Mass of the system in the data converted to solar masses\n",
      " |      distance_from_source_in_megaparsecs : float, optional\n",
      " |          Output will be waveform as observed from this distance, default=100 (Mpc)\n",
      " |  \n",
      " |  __getstate__(self)\n",
      " |      Get state of object for copying and pickling\n",
      " |      \n",
      " |      The only nontrivial operation is with quaternions, since they can't\n",
      " |      currently be pickled automatically.  We just view the frame array as\n",
      " |      a float array, and pickle as usual.\n",
      " |      \n",
      " |      Also, we remove the `num` value, because this will get reset\n",
      " |      properly on creation.\n",
      " |  \n",
      " |  __setstate__(self, state)\n",
      " |      Set state of object for copying and pickling\n",
      " |      \n",
      " |      The only nontrivial operation is with quaternions, since they can't\n",
      " |      currently be pickled automatically.  We just view the frame array as\n",
      " |      a float array, and unpickle as usual, then convert the float array\n",
      " |      back to a quaternion array.\n",
      " |  \n",
      " |  __str__(self)\n",
      " |      Return str(self).\n",
      " |  \n",
      " |  compare(self, w_a, min_time_step=0.005, min_time=-3e+300)\n",
      " |      Return a waveform with differences between the two inputs\n",
      " |      \n",
      " |      This function simply subtracts the data in this waveform from the data\n",
      " |      in Waveform A, and finds the rotation needed to take this frame into frame A.\n",
      " |      Note that the waveform data are stored as complex numbers, rather than as \n",
      " |      modulus and phase.\n",
      " |  \n",
      " |  copy(self)\n",
      " |      Return a (deep) copy of the object\n",
      " |      \n",
      " |      Note that this also copies all members if the object is a subclass.  If you want a forgetful WaveformBase\n",
      " |      object, you can simply use the copy constructor.\n",
      " |  \n",
      " |  deepcopy(self)\n",
      " |      Return a deep copy of the object\n",
      " |      \n",
      " |      This is just an alias for `copy`, which is deep anyway.\n",
      " |  \n",
      " |  interpolate(self, tprime)\n",
      " |      Interpolate the frame and data onto the new set of time steps\n",
      " |      \n",
      " |      Note that only `t`, `frame`, and `data` are changed in this function.  If there is a corresponding data set\n",
      " |      in a subclass, for example, the subclass must override this function to set that data set -- though this\n",
      " |      function should probably be called to handle the ugly stuff.\n",
      " |  \n",
      " |  max_norm_index(self, skip_fraction_of_data=4)\n",
      " |      Index of time step with largest norm\n",
      " |      \n",
      " |      The optional argument skips a fraction of the data.  The default is\n",
      " |      4, which means that it only searches the last three-fourths of the\n",
      " |      data for the max.  If 0 or 1 is input, this is ignored, and all the\n",
      " |      data is searched.\n",
      " |  \n",
      " |  max_norm_time(self, skip_fraction_of_data=4)\n",
      " |      Return time at which largest norm occurs in data\n",
      " |      \n",
      " |      See `help(max_norm_index)` for explanation of the optional argument.\n",
      " |  \n",
      " |  norm(self, take_sqrt=False, indices=slice(None, None, None))\n",
      " |      L2 norm of the waveform\n",
      " |      \n",
      " |      The optional arguments say whether to take the square-root of\n",
      " |      the norm at each time, and allow restriction to a slice of the\n",
      " |      data, respectively.\n",
      " |  \n",
      " |  ----------------------------------------------------------------------\n",
      " |  Data descriptors inherited from scri.waveform_base.WaveformBase:\n",
      " |  \n",
      " |  abs\n",
      " |  \n",
      " |  arg\n",
      " |  \n",
      " |  arg_unwrapped\n",
      " |  \n",
      " |  conformal_weight\n",
      " |  \n",
      " |  data_2d\n",
      " |  \n",
      " |  data_ddot\n",
      " |  \n",
      " |  data_dot\n",
      " |  \n",
      " |  data_iint\n",
      " |  \n",
      " |  data_int\n",
      " |  \n",
      " |  data_type_latex\n",
      " |  \n",
      " |  data_type_string\n",
      " |  \n",
      " |  descriptor_string\n",
      " |      Create a simple string describing the content of the waveform\n",
      " |      \n",
      " |      This string will be suitable for file names.  For example, 'rMpsi4' or 'rhOverM'.  It uses the waveform's\n",
      " |      knowledge of itself, so if this is incorrect, the result will be incorrect.\n",
      " |  \n",
      " |  frame_type_string\n",
      " |  \n",
      " |  gamma_weight\n",
      " |      Non-conformal effect of a boost.\n",
      " |      \n",
      " |      This factor allows for mass-scaling, for example.  If the waveform describes `r*h/M`, for example,\n",
      " |      then `r` and `h` vary by the conformal weight, which depends on the direction; whereas `M` is a monopole,\n",
      " |      and thus cannot depend on the direction.  Instead, `M` simply obeys the standard formula, scaling with gamma.\n",
      " |  \n",
      " |  is_valid\n",
      " |  \n",
      " |  m_scaling\n",
      " |  \n",
      " |  n_data_sets\n",
      " |  \n",
      " |  n_times\n",
      " |  \n",
      " |  num\n",
      " |  \n",
      " |  r_scaling\n",
      " |  \n",
      " |  spin_weight\n",
      " |  \n",
      " |  ----------------------------------------------------------------------\n",
      " |  Data descriptors inherited from scri.waveform_base._object:\n",
      " |  \n",
      " |  __dict__\n",
      " |      dictionary for instance variables (if defined)\n",
      " |  \n",
      " |  __weakref__\n",
      " |      list of weak references to the object (if defined)\n",
      "\n"
     ]
    }
   ],
   "source": [
    "help(scri.WaveformModes)"
   ]
  },
  {
   "cell_type": "markdown",
   "metadata": {},
   "source": [
    "Let's start by importing a waveform from the [SXS Catalog](https://data.black-holes.org/waveforms/catalog.html). Pick any simulation and download one of the `rhOverM_Asymptotic_GeometricUnits_COM.h5` files. Each of these HDF5 files has an interal directory storing the data."
   ]
  },
  {
   "cell_type": "code",
   "execution_count": 11,
   "metadata": {},
   "outputs": [],
   "source": [
    "#path = \"/path/to/rhOverM_Asymptotic_GeometricUnits_COM.h5\"\n",
    "path = \"/Users/isaaclegred/qnm-fitting/GetData/SXS_BBH_1975/Lev3/rhOverM_Asymptotic_GeometricUnits_COM.h5\"\n",
    "h = scri.SpEC.read_from_h5(path+\"/Extrapolated_N4.dir\")"
   ]
  },
  {
   "cell_type": "markdown",
   "metadata": {},
   "source": [
    "We can access the time array of the waveform by calling `h.t`. The mode information, called by `h.data`, \n",
    "returns a numpy array with dimensions: (number of timesteps, number of modes).\n",
    "\n",
    "You can easily access a mode with the spherical_functions.LM_index function. \n",
    "\n",
    "Let's make a plot of the dominant (2,2) mode:"
   ]
  },
  {
   "cell_type": "code",
   "execution_count": 12,
   "metadata": {},
   "outputs": [],
   "source": [
    "l, m = 2, 2\n",
    "plt.plot(h.t, np.real(h.data[:, lm(l, m, h.ell_min)]))\n",
    "plt.plot(h.t, np.imag(h.data[:, lm(l, m, h.ell_min)]))\n",
    "plt.plot(h.t,  np.abs(h.data[:, lm(l, m, h.ell_min)]))\n",
    "val= np.max(np.abs(h.data[:, lm(l, m, h.ell_min)]))\n",
    "frame  = np.where(np.abs(h.data[:, lm(l, m, h.ell_min)]) == val)\n",
    "plt.xlabel(\"u [M]\")\n",
    "plt.show()"
   ]
  },
  {
   "cell_type": "markdown",
   "metadata": {},
   "source": [
    "We can also represent the waveform as points on a sphere, instead of as modes:"
   ]
  },
  {
   "cell_type": "code",
   "execution_count": 13,
   "metadata": {},
   "outputs": [],
   "source": [
    "h_grid = h.copy()\n",
    "h_grid.to_grid();"
   ]
  },
  {
   "cell_type": "markdown",
   "metadata": {},
   "source": [
    "---\n",
    "## Changing Frames"
   ]
  },
  {
   "cell_type": "markdown",
   "metadata": {},
   "source": [
    "We can pick a different frame in which to represent our waveform. There are three different frames that `scri` supports:\n",
    "* Inertial\n",
    "* Coprecessing - The frame aligned to the orbital angular momentum vector\n",
    "* Corotating - The frame in which removes all rotational dynamics\n",
    "\n",
    "Calling `h.frame_type_string` will report which frame the `WaveformModes` is currently in. "
   ]
  },
  {
   "cell_type": "code",
   "execution_count": 14,
   "metadata": {},
   "outputs": [],
   "source": [
    "# Get the waveform in the coprecessing frame\n",
    "h_coprec = h.copy()\n",
    "h_coprec.to_coprecessing_frame();\n",
    "\n",
    "# Get the waveform in the corotating frame\n",
    "h_corot = h.copy()\n",
    "h_corot.to_corotating_frame();"
   ]
  },
  {
   "cell_type": "markdown",
   "metadata": {},
   "source": [
    "Let's make plots of the (2,2) mode waveform in the different frames:"
   ]
  },
  {
   "cell_type": "code",
   "execution_count": 15,
   "metadata": {},
   "outputs": [],
   "source": [
    "l, m = 2, 2\n",
    "for WM in [h, h_coprec, h_corot]:\n",
    "    plt.plot(WM.t, np.real(WM.data[:, lm(l, m, h.ell_min)]), label='Re(h)')\n",
    "    plt.plot(WM.t, np.imag(WM.data[:, lm(l, m, h.ell_min)]), label='Im(h)')\n",
    "    plt.plot(WM.t,  np.abs(WM.data[:, lm(l, m, h.ell_min)]), label='Abs(h)')\n",
    "    plt.xlabel(\"u [M]\")\n",
    "    plt.title(WM.frame_type_string+\" Frame\")\n",
    "    plt.legend()\n",
    "    plt.show()"
   ]
  },
  {
   "cell_type": "code",
   "execution_count": 16,
   "metadata": {},
   "outputs": [
    {
     "data": {
      "text/plain": [
       "array([[-7.50602258e-05+2.00784040e-03j,  1.06287914e-04+1.46244519e-04j,\n",
       "         1.12031055e-04+2.10309894e-06j, ...,\n",
       "        -4.91099103e-06-2.88728532e-06j,  7.29780299e-06-1.55557340e-05j,\n",
       "        -6.09423489e-07+6.18112938e-07j],\n",
       "       [-9.63185553e-05+2.00971468e-03j,  3.09420213e-05+7.16271346e-05j,\n",
       "         1.25043386e-04+3.57026631e-06j, ...,\n",
       "        -2.53261845e-06-3.74331151e-06j,  8.46373912e-06-9.74350613e-06j,\n",
       "        -7.09510887e-07-3.12567305e-07j],\n",
       "       [-1.17257910e-04+2.01787988e-03j, -4.21333790e-05-2.67961683e-05j,\n",
       "         1.34870846e-04+5.63328084e-06j, ...,\n",
       "         1.47870710e-06-3.18401876e-06j,  7.63501785e-06+2.67989357e-07j,\n",
       "        -5.45521372e-07-1.39881020e-06j],\n",
       "       ...,\n",
       "       [-2.17218563e-05+2.61892929e-05j,  3.77978304e-05-6.50830683e-06j,\n",
       "         1.06641640e-04+7.67925936e-07j, ...,\n",
       "         1.14683870e-07-1.06535662e-07j,  1.47573007e-08-2.90312411e-07j,\n",
       "        -6.11313922e-08-5.96064238e-07j],\n",
       "       [-2.24942972e-05+2.48440757e-05j,  3.80761260e-05-5.93951923e-06j,\n",
       "         1.06530060e-04+7.75964060e-07j, ...,\n",
       "         1.13839695e-07-1.06131762e-07j,  1.49565072e-08-2.89794030e-07j,\n",
       "        -6.23184392e-08-5.96185848e-07j],\n",
       "       [-2.31703722e-05+2.34607265e-05j,  3.83191820e-05-5.35613153e-06j,\n",
       "         1.06434849e-04+7.78862456e-07j, ...,\n",
       "         1.12877042e-07-1.05094624e-07j,  1.43251786e-08-2.88034169e-07j,\n",
       "        -6.39778974e-08-5.96741683e-07j]])"
      ]
     },
     "execution_count": 16,
     "metadata": {},
     "output_type": "execute_result"
    }
   ],
   "source": [
    "frame\n",
    "WM.t\n",
    "h.data"
   ]
  },
  {
   "cell_type": "code",
   "execution_count": 17,
   "metadata": {},
   "outputs": [],
   "source": [
    "start_frame = frame[0][0] \n",
    "max_frame = frame[0][0]\n",
    "l, m = 2,2\n",
    "for WM in [h, h_coprec, h_corot]:\n",
    "    plt.plot(WM.t[start_frame:], np.real(WM.data[:, lm(l, m, h.ell_min)])[start_frame:], label='Re(h)')\n",
    "    plt.plot(WM.t[start_frame:], np.imag(WM.data[:, lm(l, m, h.ell_min)])[start_frame:], label='Im(h)')\n",
    "    plt.plot(WM.t[start_frame:],  np.abs(WM.data[:, lm(l, m, h.ell_min)])[start_frame:], label='Abs(h)')\n",
    "    plt.xlabel(\"u [M]\")\n",
    "    plt.axvline(WM.t[max_frame], color=\"k\")\n",
    "    #plt.plot(h.t[start_frame:], quaternion.as_float_array(h_coprec.frame)[start_frame:,0], label = r\"$\\cos( \\alpha/2)$\")\n",
    "    plt.title(WM.frame_type_string+\" Frame\")\n",
    "    plt.legend()\n",
    "    plt.show()"
   ]
  },
  {
   "cell_type": "markdown",
   "metadata": {},
   "source": [
    "When we go into a different frame, the `WaveformModes` object will store the array of quaternions needed to get into that frame. This allows us to transform back into the inertial frame. This also is helpful if we are interested in the dynams of the system.\n",
    "\n",
    "Calling `h_corot.frame` will give the array of quaternions. We can also use functions in the `quaternion` python module to view this data in a number of different ways:\n",
    "* quaternion.as_euler_angles\n",
    "* quaternion.as_float_array\n",
    "* quaternion.as_rotation_matrix\n",
    "* quaternion.as_rotation_vector\n",
    "* quaternion.as_spherical_coords"
   ]
  },
  {
   "cell_type": "code",
   "execution_count": 18,
   "metadata": {},
   "outputs": [],
   "source": [
    "((h_coprec.frame[frame[0][0] - 700])*quaternion.z*np.conjugate(h_coprec.frame[frame[0][0] - 700])).imag\n",
    "k = quaternion.z\n"
   ]
  },
  {
   "cell_type": "code",
   "execution_count": 19,
   "metadata": {},
   "outputs": [
    {
     "data": {
      "text/plain": [
       "array([0.0406979 , 0.15235976, 0.9874868 ])"
      ]
     },
     "execution_count": 19,
     "metadata": {},
     "output_type": "execute_result"
    }
   ],
   "source": [
    "v = np.array([0.0322711539692, 0.12081275417, 0.783021732156])\n",
    "def norm(v) : return np.sqrt(sum(v**2))\n",
    "v/norm(v)"
   ]
  },
  {
   "cell_type": "code",
   "execution_count": 20,
   "metadata": {},
   "outputs": [],
   "source": [
    "Rots = quaternion.as_float_array(h_coprec.frame)[frame[0][0]:, :]*k* \\\n",
    "quaternion.as_float_array(h_coprec.frame)[frame[0][0]:, :]"
   ]
  },
  {
   "cell_type": "code",
   "execution_count": 21,
   "metadata": {},
   "outputs": [
    {
     "data": {
      "text/plain": [
       "<matplotlib.lines.Line2D at 0xb35116518>"
      ]
     },
     "execution_count": 21,
     "metadata": {},
     "output_type": "execute_result"
    }
   ],
   "source": [
    "fig = plt.figure()\n",
    "z_ax = h_coprec.frame*k*np.conjugate(h_coprec.frame)\n",
    "plot_z = quaternion.as_float_array(z_ax[1000:-1150])[:,1:4]\n",
    "rel_ts = h.t[1000:-1150] \n",
    "plt.plot(rel_ts, plot_z)\n",
    "plt.legend([\"x\", \"y\", \"z\"])\n",
    "plt.axvline(h.t[frame[0][0]], color=\"k\")"
   ]
  },
  {
   "cell_type": "code",
   "execution_count": 22,
   "metadata": {},
   "outputs": [
    {
     "data": {
      "text/plain": [
       "0.054678136443726544"
      ]
     },
     "execution_count": 22,
     "metadata": {},
     "output_type": "execute_result"
    }
   ],
   "source": [
    "quaternion.as_float_array(h_corot.frame)[frame[0][0]-1500:, :]\n",
    "plt.plot(h.t[14548:])\n",
    "h.t[14548]-h.t[14547]"
   ]
  },
  {
   "cell_type": "markdown",
   "metadata": {},
   "source": [
    "### "
   ]
  },
  {
   "cell_type": "code",
   "execution_count": 23,
   "metadata": {},
   "outputs": [
    {
     "ename": "TypeError",
     "evalue": "No loop matching the specified signature and casting\nwas found for ufunc maximum",
     "output_type": "error",
     "traceback": [
      "\u001b[0;31m---------------------------------------------------------------------------\u001b[0m",
      "\u001b[0;31mTypeError\u001b[0m                                 Traceback (most recent call last)",
      "\u001b[0;32m<ipython-input-23-f4caeaae1d0e>\u001b[0m in \u001b[0;36m<module>\u001b[0;34m\u001b[0m\n\u001b[0;32m----> 1\u001b[0;31m \u001b[0mnp\u001b[0m\u001b[0;34m.\u001b[0m\u001b[0mmax\u001b[0m\u001b[0;34m(\u001b[0m\u001b[0mRots\u001b[0m\u001b[0;34m,\u001b[0m \u001b[0;36m0\u001b[0m\u001b[0;34m)\u001b[0m\u001b[0;34m\u001b[0m\u001b[0;34m\u001b[0m\u001b[0m\n\u001b[0m",
      "\u001b[0;32m/usr/local/anaconda3/lib/python3.7/site-packages/numpy/core/fromnumeric.py\u001b[0m in \u001b[0;36mamax\u001b[0;34m(a, axis, out, keepdims, initial)\u001b[0m\n\u001b[1;32m   2503\u001b[0m     \"\"\"\n\u001b[1;32m   2504\u001b[0m     return _wrapreduction(a, np.maximum, 'max', axis, None, out, keepdims=keepdims,\n\u001b[0;32m-> 2505\u001b[0;31m                           initial=initial)\n\u001b[0m\u001b[1;32m   2506\u001b[0m \u001b[0;34m\u001b[0m\u001b[0m\n\u001b[1;32m   2507\u001b[0m \u001b[0;34m\u001b[0m\u001b[0m\n",
      "\u001b[0;32m/usr/local/anaconda3/lib/python3.7/site-packages/numpy/core/fromnumeric.py\u001b[0m in \u001b[0;36m_wrapreduction\u001b[0;34m(obj, ufunc, method, axis, dtype, out, **kwargs)\u001b[0m\n\u001b[1;32m     84\u001b[0m                 \u001b[0;32mreturn\u001b[0m \u001b[0mreduction\u001b[0m\u001b[0;34m(\u001b[0m\u001b[0maxis\u001b[0m\u001b[0;34m=\u001b[0m\u001b[0maxis\u001b[0m\u001b[0;34m,\u001b[0m \u001b[0mout\u001b[0m\u001b[0;34m=\u001b[0m\u001b[0mout\u001b[0m\u001b[0;34m,\u001b[0m \u001b[0;34m**\u001b[0m\u001b[0mpasskwargs\u001b[0m\u001b[0;34m)\u001b[0m\u001b[0;34m\u001b[0m\u001b[0;34m\u001b[0m\u001b[0m\n\u001b[1;32m     85\u001b[0m \u001b[0;34m\u001b[0m\u001b[0m\n\u001b[0;32m---> 86\u001b[0;31m     \u001b[0;32mreturn\u001b[0m \u001b[0mufunc\u001b[0m\u001b[0;34m.\u001b[0m\u001b[0mreduce\u001b[0m\u001b[0;34m(\u001b[0m\u001b[0mobj\u001b[0m\u001b[0;34m,\u001b[0m \u001b[0maxis\u001b[0m\u001b[0;34m,\u001b[0m \u001b[0mdtype\u001b[0m\u001b[0;34m,\u001b[0m \u001b[0mout\u001b[0m\u001b[0;34m,\u001b[0m \u001b[0;34m**\u001b[0m\u001b[0mpasskwargs\u001b[0m\u001b[0;34m)\u001b[0m\u001b[0;34m\u001b[0m\u001b[0;34m\u001b[0m\u001b[0m\n\u001b[0m\u001b[1;32m     87\u001b[0m \u001b[0;34m\u001b[0m\u001b[0m\n\u001b[1;32m     88\u001b[0m \u001b[0;34m\u001b[0m\u001b[0m\n",
      "\u001b[0;31mTypeError\u001b[0m: No loop matching the specified signature and casting\nwas found for ufunc maximum"
     ]
    }
   ],
   "source": [
    "np.max(Rots, 0)"
   ]
  },
  {
   "cell_type": "code",
   "execution_count": 24,
   "metadata": {},
   "outputs": [
    {
     "data": {
      "text/plain": [
       "array([-0.01012495,  0.12247675, -0.99241974])"
      ]
     },
     "execution_count": 24,
     "metadata": {},
     "output_type": "execute_result"
    }
   ],
   "source": [
    "im = sum((h_corot.frame)[frame[0][0]-600:]*quaternion.z).imag\n",
    "im/norm(im)"
   ]
  },
  {
   "cell_type": "code",
   "execution_count": 25,
   "metadata": {},
   "outputs": [
    {
     "data": {
      "text/plain": [
       "(-1, 1)"
      ]
     },
     "execution_count": 25,
     "metadata": {},
     "output_type": "execute_result"
    }
   ],
   "source": [
    "i = quaternion.quaternion(0,1,0,0)\n",
    "j = quaternion.quaternion(0,0,1,0)\n",
    "k = quaternion.quaternion(0,0,0,1)\n",
    "m = 2\n",
    "n = 1\n",
    "def cross(a,b):\n",
    "    return 1/2*(a*b - b*a)\n",
    "max = frame[0][0]\n",
    "t = h.t\n",
    "dt = (t - np.roll(t,1))\n",
    "q =h_coprec.frame\n",
    "q_dot = (np.roll(q,-1) - q)/dt\n",
    "q_dot[0] = q_dot[1]\n",
    "eye = np.array([i,j,k])\n",
    "\n",
    "plt.plot(t[max - 500:], quaternion.as_float_array(q_dot*i*1/q - q*i*1/q**2*q_dot)[max-500:][:,m])\n",
    "plt.plot(t[max - 500:], -quaternion.as_float_array(q_dot*j*1/q - q*j*1/q**2*q_dot)[max-500:][:,n], \"k\")\n",
    "plt.legend([\"Huh\", \"0??\" , r\"(-)$\\omega_z$\", r\"(-)$\\omega_x$\"])\n",
    "plt.axvline(h.t[max], color=\"r\")\n",
    "plt.ylim(-1,1)"
   ]
  },
  {
   "cell_type": "code",
   "execution_count": 26,
   "metadata": {},
   "outputs": [
    {
     "data": {
      "text/plain": [
       "(0, 0.1)"
      ]
     },
     "execution_count": 26,
     "metadata": {},
     "output_type": "execute_result"
    }
   ],
   "source": [
    "fig = plt.figure()\n",
    "freqs= np.fft.fftfreq(len(quaternion.as_float_array(-q_dot*j*1/q + q*j*1/q*1/q*q_dot)[frame[0][0]:][:,1]))\n",
    "plt.plot(10*freqs, .1*abs(np.fft.fft(quaternion.as_float_array(-q_dot*j*1/q + q*j*1/q*1/q*q_dot)[frame[0][0]:][:,1])))\n",
    "plt.xlim(0, .1)"
   ]
  },
  {
   "cell_type": "code",
   "execution_count": null,
   "metadata": {},
   "outputs": [],
   "source": [
    "\n",
    "# It's weird that the angular velocity of the corotating frame is like .04 - .05 M, this is not even close to what I would expect "
   ]
  },
  {
   "cell_type": "code",
   "execution_count": null,
   "metadata": {},
   "outputs": [],
   "source": [
    "plt.plot((t - np.roll(t,1))[frame[0][0]:])"
   ]
  },
  {
   "cell_type": "markdown",
   "metadata": {},
   "source": [
    "---\n",
    "# BMS Transformation"
   ]
  },
  {
   "cell_type": "code",
   "execution_count": null,
   "metadata": {},
   "outputs": [],
   "source": [
    "q*q_dot - q_dot*q"
   ]
  },
  {
   "cell_type": "code",
   "execution_count": null,
   "metadata": {},
   "outputs": [],
   "source": []
  },
  {
   "cell_type": "markdown",
   "metadata": {},
   "source": [
    "The documentation for a transformation can be found by calling `help(scri.WaveformGrid.from_modes)`"
   ]
  },
  {
   "cell_type": "code",
   "execution_count": null,
   "metadata": {},
   "outputs": [],
   "source": [
    "help(scri.WaveformGrid.from_modes)"
   ]
  },
  {
   "cell_type": "markdown",
   "metadata": {},
   "source": [
    "Let's start with a simple rotation. We'll create a quaternion to describe the rotation of the frame that we wish to perform."
   ]
  },
  {
   "cell_type": "code",
   "execution_count": 27,
   "metadata": {},
   "outputs": [],
   "source": [
    "i = quaternion.quaternion(0,1,0,0)\n",
    "j = quaternion.quaternion(0,0,1,0)\n",
    "k = quaternion.quaternion(0,0,0,1)\n",
    "def cross(a,b):\n",
    "    return 1/2*(a*b - b*a)"
   ]
  },
  {
   "cell_type": "code",
   "execution_count": 28,
   "metadata": {},
   "outputs": [
    {
     "data": {
      "text/plain": [
       "array([-0.16404426,  0.98645298,  0.        ])"
      ]
     },
     "execution_count": 28,
     "metadata": {},
     "output_type": "execute_result"
    }
   ],
   "source": [
    "i = quaternion.quaternion(0,1,0,0)\n",
    "j = quaternion.quaternion(0,0,1,0)\n",
    "k = quaternion.quaternion(0,0,0,1)\n",
    "def cross(a,b):\n",
    "    return 1/2*(a*b - b*a)\n",
    "k_hat = quaternion.quaternion(0, 0.25269634778, 0.04202266793, 0.80968828452)\n",
    "k_hat = k_hat/ np.sqrt(k_hat*np.conjugate(k_hat))\n",
    "ax = cross(k, k_hat)\n",
    "ax = ax/np.sqrt(ax*np.conjugate(ax))\n",
    "cos_al = np.real(k*np.conjugate(k_hat))\n",
    "alpha = np.arccos(cos_al)\n",
    "ax.imag"
   ]
  },
  {
   "cell_type": "code",
   "execution_count": 38,
   "metadata": {},
   "outputs": [
    {
     "data": {
      "image/png": "[encoded data removed]",
      "text/plain": [
       "<Figure size 432x288 with 1 Axes>"
      ]
     },
     "metadata": {
      "needs_background": "light"
     },
     "output_type": "display_data"
    },
    {
     "data": {
      "image/png": "[encoded data removed]",
      "text/plain": [
       "<Figure size 432x288 with 1 Axes>"
      ]
     },
     "metadata": {
      "needs_background": "light"
     },
     "output_type": "display_data"
    },
    {
     "data": {
      "image/png": "[encoded data removed]",
      "text/plain": [
       "<Figure size 432x288 with 1 Axes>"
      ]
     },
     "metadata": {
      "needs_background": "light"
     },
     "output_type": "display_data"
    },
    {
     "data": {
      "image/png": "[encoded data removed]",
      "text/plain": [
       "<Figure size 432x288 with 1 Axes>"
      ]
     },
     "metadata": {
      "needs_background": "light"
     },
     "output_type": "display_data"
    },
    {
     "data": {
      "image/png": "[encoded data removed]",
      "text/plain": [
       "<Figure size 432x288 with 1 Axes>"
      ]
     },
     "metadata": {
      "needs_background": "light"
     },
     "output_type": "display_data"
    }
   ],
   "source": [
    "eps = .1\n",
    "r = quaternion.quaternion(np.cos(eps*0.5*alpha), *np.sin(eps*0.5*alpha)*ax.imag)\n",
    "gamma = .1\n",
    "r_mod = quaternion.quaternion(np.cos(gamma), 0, 0, np.sin(gamma))*r\n",
    "# r = h_coprec.frame[14010]\n",
    "rotation_axis = np.array([0, 1.0, 0]) # rotation about the y-axis\n",
    "rotation_axis /= np.linalg.norm(rotation_axis) # make sure its a unit vector\n",
    "\n",
    "theta = np.pi/4 # rotation angle\n",
    "#rotor = np.array([r_mod.real, r_mod.imag)\n",
    "rotor = np.concatenate([np.array([r_mod.real]),r_mod.imag ])\n",
    "#q = quaternion.quaternion(0,np.pi/2,0,0)\n",
    "#rotor = np.concatenate([np.array([q.real]),q.imag ])\n",
    "Yl2m2= np.transpose(np.stack([h.t, np.real(h.data[:, lm(l, m, h.ell_min)]),\n",
    "\t                                  np.imag(h.data[:, lm(l, m, h.ell_min)])]))\n",
    "h_rot = h.transform(frame_rotation = rotor)\n",
    "l, m = 2, 2\n",
    "\n",
    "Yl2m2_rot = np.transpose(np.stack([h_rot.t, np.real(h_rot.data[:, lm(l, m, h.ell_min)]),\n",
    "\t                                  np.imag(h_rot.data[:, lm(l, m, h.ell_min)])]))\n",
    "for i in range(-2,3):\n",
    "    l, m = 2,i\n",
    "    plt.plot(h.t[max_frame:], np.abs(h.data[:, lm(l, m, h.ell_min)][max_frame:]), label=\"original\")\n",
    "    plt.plot(h_rot.t[max_frame:], np.abs(h_rot.data[:, lm(l, m, h.ell_min)][max_frame:]), label=\"rotated\")\n",
    "    plt.xlabel(\"u [M]\")\n",
    "    plt.legend()\n",
    "    plt.axvline(h.t[max_frame], color=\"r\")\n",
    "    plt.show()"
   ]
  },
  {
   "cell_type": "code",
   "execution_count": 36,
   "metadata": {},
   "outputs": [
    {
     "data": {
      "text/plain": [
       "array([[-7.97325021e-04, -1.23391716e-04],\n",
       "       [-7.95854263e-04, -1.18843335e-04],\n",
       "       [-7.96497407e-04, -1.15874042e-04],\n",
       "       ...,\n",
       "       [-1.32076875e-06,  4.97480351e-06],\n",
       "       [-9.69386963e-07,  4.77716187e-06],\n",
       "       [-6.34116419e-07,  4.55831637e-06]])"
      ]
     },
     "execution_count": 36,
     "metadata": {},
     "output_type": "execute_result"
    }
   ],
   "source": [
    "Yl2m2[:,1:]-Yl2m2_rot[:,1:]\n"
   ]
  },
  {
   "cell_type": "code",
   "execution_count": null,
   "metadata": {},
   "outputs": [],
   "source": [
    "Yl2m2"
   ]
  },
  {
   "cell_type": "markdown",
   "metadata": {},
   "source": [
    "We can also apply a boost, or a spacetime translation, or both at the same time!"
   ]
  },
  {
   "cell_type": "code",
   "execution_count": null,
   "metadata": {},
   "outputs": [],
   "source": [
    "h_trans = h.transform(boost_velocity=[0,0,0.01], spacetime_translation=[-20., 5, -4.4, 8])"
   ]
  },
  {
   "cell_type": "code",
   "execution_count": null,
   "metadata": {},
   "outputs": [],
   "source": [
    "l, m = 2, 2\n",
    "plt.plot(h.t, np.real(h.data[:, lm(l, m, h.ell_min)]), label=\"original\")\n",
    "plt.plot(h_trans.t, np.real(h_trans.data[:, lm(l, m, h_trans.ell_min)]), label=\"Lorentz transformed\")\n",
    "plt.xlabel(\"u [M]\")\n",
    "plt.legend()\n",
    "plt.show()"
   ]
  },
  {
   "cell_type": "markdown",
   "metadata": {},
   "source": [
    "There are many other operations that can be performed on a `WaveformModes` object so read the documentation and explore!"
   ]
  },
  {
   "cell_type": "code",
   "execution_count": null,
   "metadata": {},
   "outputs": [],
   "source": [
    "?scri.rotate_decomposition_basis"
   ]
  },
  {
   "cell_type": "code",
   "execution_count": null,
   "metadata": {},
   "outputs": [],
   "source": [
    "i"
   ]
  },
  {
   "cell_type": "code",
   "execution_count": null,
   "metadata": {},
   "outputs": [],
   "source": [
    "j"
   ]
  },
  {
   "cell_type": "code",
   "execution_count": null,
   "metadata": {},
   "outputs": [],
   "source": [
    "max"
   ]
  },
  {
   "cell_type": "code",
   "execution_count": null,
   "metadata": {},
   "outputs": [],
   "source": [
    "ang_vel = quaternion.angular_velocity(q, t)[max-2000:-700]\n",
    "plt.plot(t[max-2000:-700], ang_vel)\n",
    "plt.legend([\"x\", \"y\", \"z\"])\n",
    "plt.axvline(h.t[max], color=\"r\")"
   ]
  },
  {
   "cell_type": "code",
   "execution_count": null,
   "metadata": {},
   "outputs": [],
   "source": [
    "ax = plt.axes(projection='3d')\n",
    "ax.plot3D(ang_vel[:,0], ang_vel[:,1], ang_vel[:,2], \"r\")"
   ]
  },
  {
   "cell_type": "code",
   "execution_count": null,
   "metadata": {},
   "outputs": [],
   "source": [
    "v = np.array([0.02, 0.04, 0.30])\n",
    "def norm(v) : return np.sqrt(sum(v**2))\n",
    "v/norm(v)"
   ]
  },
  {
   "cell_type": "code",
   "execution_count": null,
   "metadata": {},
   "outputs": [],
   "source": [
    " np.array([0.0322649379349, 0.120815865436, 0.782947749347])/norm(np.array([0.0322649379349, 0.120815865436, 0.782947749347]))"
   ]
  },
  {
   "cell_type": "code",
   "execution_count": null,
   "metadata": {},
   "outputs": [],
   "source": [
    "poss_spin = ang_vel[1200+865,:]"
   ]
  },
  {
   "cell_type": "code",
   "execution_count": null,
   "metadata": {},
   "outputs": [],
   "source": [
    "poss_spin/norm(poss_spin)"
   ]
  },
  {
   "cell_type": "code",
   "execution_count": null,
   "metadata": {},
   "outputs": [],
   "source": [
    "# So an answer to the question of \"Does the spin of the black hole really go to zero in the coprecessing frame?\" Seems to \n",
    "# be yes, since the case of 0305 showed that the spin is fit to as small a value as 10^-13, at the same time though,\n",
    "# the mass increases dramatically.  In the case of 1975, however, the spin, after conversion to the co-rotating frame\n",
    "# was fit to the correct value for the actual remnant black hole (or very near to it .81 fit vs .85 actual)"
   ]
  },
  {
   "cell_type": "code",
   "execution_count": null,
   "metadata": {},
   "outputs": [],
   "source": [
    "norm(np.array([0.25269634778, 0.04202266793, 0.80968828452]))"
   ]
  },
  {
   "cell_type": "code",
   "execution_count": 38,
   "metadata": {},
   "outputs": [],
   "source": [
    "\n",
    "\n",
    "def Get_lines(configs, body_index, times):\n",
    "    \"\"\"\n",
    "    Create a line using a random walk algorithm\n",
    "\n",
    "    length is the number of points for the line.\n",
    "    dims is the number of dimensions the line has.\n",
    "    \"\"\"\n",
    "    dims = 3\n",
    "    lineData = np.empty((dims, len(times)))\n",
    "    line_data = []\n",
    "\n",
    "    return lineData\n",
    "\n",
    "def update_lines(num, dataLines, lines):\n",
    "    for line, data in zip(lines, dataLines):\n",
    "        # NOTE: there is no .set_data() for 3 dim data...\n",
    "        line.set_data(data[0:2, 0:num])\n",
    "        line.set_3d_properties(data[2, 0 : num])\n",
    "        \n",
    "    return lines"
   ]
  },
  {
   "cell_type": "code",
   "execution_count": 68,
   "metadata": {},
   "outputs": [
    {
     "data": {
      "image/png": "[encoded data removed]",
      "text/plain": [
       "<Figure size 720x720 with 1 Axes>"
      ]
     },
     "metadata": {
      "needs_background": "light"
     },
     "output_type": "display_data"
    }
   ],
   "source": [
    "# Attaching 3D axis to the figure\n",
    "fig = plt.figure()\n",
    "fig.set_size_inches(10, 10)\n",
    "ax = p3.Axes3D(fig)\n",
    "\n",
    "\n",
    "data = [np.transpose(plot_z)]\n",
    "\n",
    "# NOTE: Can't pass empty arrays into 3d version of plot()\n",
    "lines = [ax.plot(dat[0, 0:1], dat[1, 0:1], dat[2, 0:1]) [0] for dat in data]\n",
    "\n",
    "# Setting the axes properties\n",
    "ax.set_xlim3d([-1, 1])\n",
    "ax.set_xlabel('X')\n",
    "\n",
    "ax.set_ylim3d([-1, 1])\n",
    "ax.set_ylabel('Y')\n",
    "\n",
    "ax.set_zlim3d([-1, 1])\n",
    "ax.set_zlabel('Z')\n",
    "\n",
    "ax.set_title('Precession Z-axis ')\n",
    "\n",
    "# Creating the Animation object\n",
    "line_ani = animation.FuncAnimation(fig, update_lines, 6*np.array(range(2100)), fargs=(data, lines),\n",
    "                                   interval=1000, blit=False)\n",
    "line_ani.save('Before_instability_0177.mp4', fps=50)\n",
    "plt.show()"
   ]
  },
  {
   "cell_type": "code",
   "execution_count": 81,
   "metadata": {},
   "outputs": [
    {
     "data": {
      "text/plain": [
       "13813"
      ]
     },
     "execution_count": 81,
     "metadata": {},
     "output_type": "execute_result"
    }
   ],
   "source": [
    "max"
   ]
  },
  {
   "cell_type": "code",
   "execution_count": 83,
   "metadata": {},
   "outputs": [
    {
     "name": "stdout",
     "output_type": "stream",
     "text": [
      "\u001b[H\u001b[2J"
     ]
    }
   ],
   "source": [
    "clear(max)"
   ]
  },
  {
   "cell_type": "code",
   "execution_count": 84,
   "metadata": {},
   "outputs": [
    {
     "data": {
      "text/plain": [
       "13813"
      ]
     },
     "execution_count": 84,
     "metadata": {},
     "output_type": "execute_result"
    }
   ],
   "source": [
    "max"
   ]
  },
  {
   "cell_type": "code",
   "execution_count": 86,
   "metadata": {},
   "outputs": [],
   "source": [
    "del max"
   ]
  },
  {
   "cell_type": "code",
   "execution_count": 104,
   "metadata": {},
   "outputs": [
    {
     "data": {
      "text/plain": [
       "array([quaternion(0, 0, 0, 0), quaternion(0, 0, 0, 0)], dtype=quaternion)"
      ]
     },
     "execution_count": 104,
     "metadata": {},
     "output_type": "execute_result"
    }
   ],
   "source": [
    "np.array([k,k]).imag"
   ]
  },
  {
   "cell_type": "code",
   "execution_count": 62,
   "metadata": {},
   "outputs": [
    {
     "data": {
      "text/plain": [
       "array([0.07297575, 0.1445053 , 0.98680938])"
      ]
     },
     "execution_count": 62,
     "metadata": {},
     "output_type": "execute_result"
    }
   ],
   "source": [
    "v =  np.sum(plot_z[:-1000,:],0)\n",
    "v/norm(v)"
   ]
  },
  {
   "cell_type": "code",
   "execution_count": 118,
   "metadata": {},
   "outputs": [
    {
     "data": {
      "text/plain": [
       "2"
      ]
     },
     "execution_count": 118,
     "metadata": {},
     "output_type": "execute_result"
    }
   ],
   "source": [
    "h."
   ]
  },
  {
   "cell_type": "code",
   "execution_count": 152,
   "metadata": {},
   "outputs": [
    {
     "data": {
      "text/plain": [
       "[<matplotlib.lines.Line2D at 0x18309752b0>]"
      ]
     },
     "execution_count": 152,
     "metadata": {},
     "output_type": "execute_result"
    },
    {
     "data": {
      "image/png": "[encoded data removed]",
      "text/plain": [
       "<Figure size 432x288 with 1 Axes>"
      ]
     },
     "metadata": {
      "needs_background": "light"
     },
     "output_type": "display_data"
    }
   ],
   "source": [
    "plt.plot(np.log(abs(h.data[12000])), \"-ro\")"
   ]
  },
  {
   "cell_type": "code",
   "execution_count": 204,
   "metadata": {},
   "outputs": [
    {
     "data": {
      "text/plain": [
       "<module 'os' from '/usr/local/anaconda3/lib/python3.7/os.py'>"
      ]
     },
     "execution_count": 204,
     "metadata": {},
     "output_type": "execute_result"
    }
   ],
   "source": [
    "import os\n"
   ]
  },
  {
   "cell_type": "code",
   "execution_count": 212,
   "metadata": {},
   "outputs": [
    {
     "ename": "AttributeError",
     "evalue": "module 'os' has no attribute 'os'",
     "output_type": "error",
     "traceback": [
      "\u001b[0;31m---------------------------------------------------------------------------\u001b[0m",
      "\u001b[0;31mAttributeError\u001b[0m                            Traceback (most recent call last)",
      "\u001b[0;32m<ipython-input-212-272257225df3>\u001b[0m in \u001b[0;36m<module>\u001b[0;34m\u001b[0m\n\u001b[0;32m----> 1\u001b[0;31m \u001b[0mos\u001b[0m\u001b[0;34m.\u001b[0m\u001b[0mos\u001b[0m\u001b[0;34m(\u001b[0m\u001b[0;34m\"LoadPython.sh\"\u001b[0m\u001b[0;34m)\u001b[0m\u001b[0;34m\u001b[0m\u001b[0;34m\u001b[0m\u001b[0m\n\u001b[0m",
      "\u001b[0;31mAttributeError\u001b[0m: module 'os' has no attribute 'os'"
     ]
    }
   ],
   "source": [
    "os.(\"LoadPython.sh\")\n"
   ]
  },
  {
   "cell_type": "code",
   "execution_count": 2,
   "metadata": {},
   "outputs": [],
   "source": [
    "import SetupData\n",
    "import SetupTrial"
   ]
  },
  {
   "cell_type": "code",
   "execution_count": 42,
   "metadata": {},
   "outputs": [
    {
     "name": "stdout",
     "output_type": "stream",
     "text": [
      "[Errno 2] No such file or directory: 'bin/'\n",
      "/Users/isaaclegred/qnm-fitting/Testing\n"
     ]
    }
   ],
   "source": [
    "cd bin/"
   ]
  },
  {
   "cell_type": "code",
   "execution_count": 41,
   "metadata": {},
   "outputs": [
    {
     "ename": "ModuleNotFoundError",
     "evalue": "No module named 'FitWithLigoNoise'",
     "output_type": "error",
     "traceback": [
      "\u001b[0;31m---------------------------------------------------------------------------\u001b[0m",
      "\u001b[0;31mModuleNotFoundError\u001b[0m                       Traceback (most recent call last)",
      "\u001b[0;32m<ipython-input-41-09e29eba8dbb>\u001b[0m in \u001b[0;36m<module>\u001b[0;34m\u001b[0m\n\u001b[1;32m      1\u001b[0m \u001b[0mdir\u001b[0m\u001b[0;34m\u001b[0m\u001b[0;34m\u001b[0m\u001b[0m\n\u001b[0;32m----> 2\u001b[0;31m \u001b[0;32mfrom\u001b[0m \u001b[0mFitWithLigoNoise\u001b[0m \u001b[0;32mimport\u001b[0m \u001b[0mfit_qnm_modes_to_signal\u001b[0m\u001b[0;34m\u001b[0m\u001b[0;34m\u001b[0m\u001b[0m\n\u001b[0m",
      "\u001b[0;31mModuleNotFoundError\u001b[0m: No module named 'FitWithLigoNoise'"
     ]
    }
   ],
   "source": [
    "\n",
    "from FitWithLigoNoise import fit_qnm_modes_to_signal"
   ]
  },
  {
   "cell_type": "code",
   "execution_count": null,
   "metadata": {},
   "outputs": [],
   "source": []
  }
 ],
 "metadata": {
  "kernelspec": {
   "display_name": "Python 3",
   "language": "python",
   "name": "python3"
  },
  "language_info": {
   "codemirror_mode": {
    "name": "ipython",
    "version": 3
   },
   "file_extension": ".py",
   "mimetype": "text/x-python",
   "name": "python",
   "nbconvert_exporter": "python",
   "pygments_lexer": "ipython3",
   "version": "3.7.3"
  }
 },
 "nbformat": 4,
 "nbformat_minor": 4
}
