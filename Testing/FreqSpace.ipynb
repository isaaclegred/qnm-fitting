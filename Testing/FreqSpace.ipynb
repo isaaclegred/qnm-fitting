{
 "cells": [
  {
   "cell_type": "code",
   "execution_count": null,
   "metadata": {},
   "outputs": [],
   "source": []
  },
  {
   "cell_type": "code",
   "execution_count": 3,
   "metadata": {},
   "outputs": [
    {
     "ename": "SyntaxError",
     "evalue": "invalid syntax (<ipython-input-3-b14baa569b0a>, line 1)",
     "output_type": "error",
     "traceback": [
      "\u001b[0;36m  File \u001b[0;32m\"<ipython-input-3-b14baa569b0a>\"\u001b[0;36m, line \u001b[0;32m1\u001b[0m\n\u001b[0;31m    os.chdir()\"~/qnm-fitting\"\u001b[0m\n\u001b[0m                            ^\u001b[0m\n\u001b[0;31mSyntaxError\u001b[0m\u001b[0;31m:\u001b[0m invalid syntax\n"
     ]
    }
   ],
   "source": [
    "os.chdir()\"~/qnm-fitting\"\n",
    "os.system(\"LoadPython.sh\")"
   ]
  },
  {
   "cell_type": "code",
   "execution_count": 1,
   "metadata": {},
   "outputs": [],
   "source": [
    "import os\n",
    "import SetupData\n",
    "import qnm\n",
    "from scipy.optimize import least_squares\n",
    "import numpy as np\n",
    "from matplotlib import pyplot as plt\n"
   ]
  },
  {
   "cell_type": "code",
   "execution_count": 2,
   "metadata": {},
   "outputs": [],
   "source": [
    "ksc = qnm.cached.KerrSeqCache(init_schw=False)\n",
    "Yl2m2 = SetupData.get_Yl2m2(\"/Users/isaaclegred/qnm-fitting/SXSDATA0305/Lev2/rhOverM_Asymptotic_GeometricUnits_CoM.h5\")"
   ]
  },
  {
   "cell_type": "code",
   "execution_count": null,
   "metadata": {},
   "outputs": [],
   "source": []
  },
  {
   "cell_type": "code",
   "execution_count": 3,
   "metadata": {},
   "outputs": [
    {
     "data": {
      "text/plain": [
       "array([-107.86222981, -106.96915089, -106.0847403 , ..., 3843.358489  ,\n",
       "       3843.45848512, 3843.55848125])"
      ]
     },
     "execution_count": 3,
     "metadata": {},
     "output_type": "execute_result"
    }
   ],
   "source": [
    "Yl2m2[:,0]"
   ]
  },
  {
   "cell_type": "code",
   "execution_count": 4,
   "metadata": {},
   "outputs": [],
   "source": [
    "a_strain = np.sqrt(Yl2m2[:,1]**2 + Yl2m2[:,2]**2)"
   ]
  },
  {
   "cell_type": "code",
   "execution_count": 5,
   "metadata": {},
   "outputs": [
    {
     "data": {
      "text/plain": [
       "(array([12280]),)"
      ]
     },
     "execution_count": 5,
     "metadata": {},
     "output_type": "execute_result"
    }
   ],
   "source": [
    "np.where((a_strain == max(a_strain)))"
   ]
  },
  {
   "cell_type": "code",
   "execution_count": null,
   "metadata": {},
   "outputs": [],
   "source": [
    "max_frame = 12280"
   ]
  },
  {
   "cell_type": "code",
   "execution_count": null,
   "metadata": {},
   "outputs": [],
   "source": [
    "Omegas = [ksc(s = -2, l = 2, m = 2, n = i)(a=.68) for i in range(0,7)]"
   ]
  },
  {
   "cell_type": "code",
   "execution_count": null,
   "metadata": {},
   "outputs": [],
   "source": [
    "Ringdown = Yl2m2[12280:,:]"
   ]
  },
  {
   "cell_type": "code",
   "execution_count": null,
   "metadata": {},
   "outputs": [],
   "source": [
    "CompRingdown = Ringdown[:,1] - 1j * Ringdown[:,2]"
   ]
  },
  {
   "cell_type": "code",
   "execution_count": null,
   "metadata": {},
   "outputs": [],
   "source": [
    "CompStrain = Yl2m2[:,1] - 1j*Yl2m2[:,2]"
   ]
  },
  {
   "cell_type": "code",
   "execution_count": null,
   "metadata": {},
   "outputs": [],
   "source": [
    "DeltaT = (Yl2m2[-1, 0]- Yl2m2[0, 0])/len(Yl2m2)\n",
    "freqs = np.fft.fftfreq(len(CompStrain))/DeltaT*2*np.pi"
   ]
  },
  {
   "cell_type": "code",
   "execution_count": null,
   "metadata": {},
   "outputs": [],
   "source": [
    "plt.plot(freqs, np.real(np.fft.fft(CompStrain)), \"-r\")\n",
    "plt.plot(freqs, np.imag(np.fft.fft(CompStrain)), \"-b\")\n",
    "plt.xlim(-.1,.3)\n",
    "plt.plot(construct_fourier_trial(x0,start_grid),  \"-og\")"
   ]
  },
  {
   "cell_type": "code",
   "execution_count": null,
   "metadata": {},
   "outputs": [],
   "source": [
    "plt.plot(CompStrain.real)"
   ]
  },
  {
   "cell_type": "code",
   "execution_count": null,
   "metadata": {},
   "outputs": [],
   "source": [
    "CompPreRing = CompStrain[0:-len(CompRingdown)]\n",
    "plt.plot(CompPreRing.real)\n",
    "plt.figure()\n",
    "plt.plot(CompRingdown.real)\n",
    "plt.plot(CompRingdown.imag)\n"
   ]
  },
  {
   "cell_type": "code",
   "execution_count": null,
   "metadata": {},
   "outputs": [],
   "source": [
    "dt = (Ringdown[-1,0] - Ringdown[0,0])/len(Ringdown)\n",
    "RDfreqs = np.fft.fftfreq(len(CompRingdown))\n",
    "plt.plot(RDfreqs/dt*2*np.pi, np.real(np.fft.fft(CompRingdown*dt)), \"-r\", label = \"real\")\n",
    "plt.plot(RDfreqs/dt*2*np.pi, np.imag(np.fft.fft(CompRingdown*dt)), \"-b\", label = \"imaginary\")\n",
    "plt.xlim(-2,2)\n",
    "plt.xlabel(\"$\\omega(1/M)$\")\n",
    "plt.ylabel(\"$C(\\omega)$\")\n",
    "plt.title(\"Fourier Transform of the ringdown signal\")\n",
    "plt.legend()"
   ]
  },
  {
   "cell_type": "markdown",
   "metadata": {},
   "source": [
    "The frequencies that are recovered by the `np.fft.fftfreq` method are equally spaced values of $k=\\Delta T \\omega$, so in order to recover true frequencies we have to take $k/ \\Delta T = \\omega$, where $\\Delta T$ is the actual time separation between data points"
   ]
  },
  {
   "cell_type": "code",
   "execution_count": null,
   "metadata": {},
   "outputs": [],
   "source": [
    "np.fft.fftfreq(len(CompRingdown))"
   ]
  },
  {
   "cell_type": "code",
   "execution_count": null,
   "metadata": {},
   "outputs": [],
   "source": [
    "Ringdowntime*.005"
   ]
  },
  {
   "cell_type": "code",
   "execution_count": null,
   "metadata": {},
   "outputs": [],
   "source": [
    "# The fundamental mode converted into 1/seconds\n",
    "Omegas[1][0]*305.476359 \n"
   ]
  },
  {
   "cell_type": "code",
   "execution_count": null,
   "metadata": {},
   "outputs": [],
   "source": []
  },
  {
   "cell_type": "code",
   "execution_count": 27,
   "metadata": {},
   "outputs": [
    {
     "data": {
      "text/plain": [
       "0.503061282962366"
      ]
     },
     "execution_count": 27,
     "metadata": {},
     "output_type": "execute_result"
    }
   ],
   "source": [
    "# This is most likely the correct way to recover physical \n",
    "# frequencies from the fft\n",
    ".008/dt*2*np.pi"
   ]
  },
  {
   "cell_type": "code",
   "execution_count": 20,
   "metadata": {},
   "outputs": [],
   "source": [
    "def get_complex_test_funcs(A, grid):\n",
    "    grid/x[15]\n",
    "    ksc = qnm.cached.KerrSeqCache(init_schw=False)\n",
    "    test_funcs = []\n",
    "    for i in range(7):\n",
    "        mode_seq = ksc(s = -2, l = 2, m = 2, n = i)\n",
    "        freq = mode_seq(a = A)[0]\n",
    "        test_funcs.append(np.exp(-1j*freq*grid))\n",
    "    return test_funcs\n",
    "def construct_complex_trial_from_grid(x, grid):\n",
    "\n",
    "    a = x[14]\n",
    "    M = x[15]\n",
    "    dt = (grid[-1] - grid[0])/M*len(grid)\n",
    "    test_funcs = get_complex_test_funcs(a, grid)\n",
    "    trial = np.zeros((len(test_funcs[0])), dtype = np.complex128)\n",
    "    for i in range(7):\n",
    "        phi = np.arctan2(x[2*i], x[2*i+1])\n",
    "        r = abs(x[2*i+1]+1j*x[2*i])\n",
    "        print(r, phi)\n",
    "        trial += r*np.exp(-1j*phi)*test_funcs[i]\n",
    "    return trial\n",
    "def construct_fourier_trial(x, grid):\n",
    "    grid = grid/x[15]\n",
    "    dt = (grid[-1] - grid[0])/len(grid)\n",
    "    freq_grid = np.fft.fftfreq(len(grid))/dt*2*np.pi\n",
    "    trial = np.zeros(len(freq_grid), dtype=np.complex128)\n",
    "    for i in range(7):\n",
    "        mode_seq = ksc(s = -2, l = 2, m = 2, n = i)\n",
    "        freq = mode_seq(a = x[14])[0]\n",
    "        trial += (x[2*i]- 1j*x[2*i+1])/(freq - freq_grid)\n",
    "    return trial\n",
    "def Residuals(x, params0, params2):\n",
    "    target = params0\n",
    "    grid = params2/x[15]        \n",
    "    trial = construct_fourier_trial(x, grid)\n",
    "    residuals = np.abs(target - trial)[0]\n",
    "    return residuals"
   ]
  },
  {
   "cell_type": "code",
   "execution_count": 22,
   "metadata": {},
   "outputs": [
    {
     "name": "stderr",
     "output_type": "stream",
     "text": [
      "/usr/local/anaconda3/lib/python3.7/site-packages/scipy/optimize/_lsq/least_squares.py:111: UserWarning: `ftol` is too low, setting to machine epsilon 2.220446049250313e-16.\n",
      "  warn(message.format(\"`ftol`\", EPS))\n"
     ]
    }
   ],
   "source": [
    "signal = np.fft.fft(CompRingdown*dt)\n",
    "x0 = np.ones(16)\n",
    "x0[14] = .68\n",
    "x0[15] = .9\n",
    "start_grid = Ringdown[:,0] - Ringdown[0,0]\n",
    "lower_bounds = [-np.inf]*14\n",
    "upper_bounds = [np.inf]*14\n",
    "lower_bounds += [0,0]\n",
    "upper_bounds += [1, 1.2]\n",
    "Bounds =(lower_bounds, upper_bounds)\n",
    "X = least_squares(Residuals, x0 , args=(signal, start_grid),bounds=Bounds , ftol=20**-15, gtol = 10**-15)"
   ]
  },
  {
   "cell_type": "code",
   "execution_count": 76,
   "metadata": {},
   "outputs": [
    {
     "data": {
      "text/plain": [
       " active_mask: array([0, 0, 0, 0, 0, 0, 0, 0, 0, 0, 0, 0, 0, 0, 0, 0])\n",
       "        cost: 1.7004721409394907e-15\n",
       "         fun: array([5.83176155e-08])\n",
       "        grad: array([5.13814852e-08, 5.13814852e-08, 3.38794890e-08, 3.38794890e-08,\n",
       "       5.68164813e-08, 5.68164813e-08, 6.27029711e-08, 6.27029711e-08,\n",
       "       6.18522270e-08, 6.18522270e-08, 5.36031977e-08, 5.36031977e-08,\n",
       "       4.62779946e-08, 4.62779946e-08, 7.10993588e-08, 0.00000000e+00])\n",
       "         jac: array([[0.88106286, 0.88106286, 0.58094778, 0.58094778, 0.97425934,\n",
       "        0.97425934, 1.07519779, 1.07519779, 1.06060967, 1.06060967,\n",
       "        0.91915963, 0.91915963, 0.79355087, 0.79355087, 1.21917466,\n",
       "        0.        ]])\n",
       "     message: '`xtol` termination condition is satisfied.'\n",
       "        nfev: 78\n",
       "        njev: 64\n",
       "  optimality: 6.270297106802007e-08\n",
       "      status: 3\n",
       "     success: True\n",
       "           x: array([ 0.03222029,  0.03222029, -0.2128222 , -0.2128222 , -0.23714227,\n",
       "       -0.23714227, -0.12480103, -0.12480103,  0.02499933,  0.02499933,\n",
       "        0.16472427,  0.16472427,  0.28809143,  0.28809143,  0.59065757,\n",
       "        0.9       ])"
      ]
     },
     "execution_count": 76,
     "metadata": {},
     "output_type": "execute_result"
    }
   ],
   "source": [
    "X"
   ]
  },
  {
   "cell_type": "code",
   "execution_count": 57,
   "metadata": {},
   "outputs": [
    {
     "data": {
      "text/plain": [
       "array([nan, nan, nan, ..., nan, nan, nan])"
      ]
     },
     "execution_count": 57,
     "metadata": {},
     "output_type": "execute_result"
    }
   ],
   "source": [
    "np.abs(CompRingdown-trial)[0]"
   ]
  },
  {
   "cell_type": "code",
   "execution_count": 178,
   "metadata": {},
   "outputs": [
    {
     "name": "stdout",
     "output_type": "stream",
     "text": [
      "0.5154279060607523 -1.8379386642714999\n",
      "0.6075121571771716 0.33435370475392345\n",
      "0.28738238531509097 -2.240595752763223\n",
      "1.135022624444276 2.3432408378249567\n",
      "2.0874680581609555 -0.5104684762077683\n",
      "1.6513476802998321 2.851041812149421\n",
      "0.47921001401550084 -0.08647190393639384\n"
     ]
    }
   ],
   "source": [
    "trial= construct_complex_trial_from_grid(x, start_grid)"
   ]
  },
  {
   "cell_type": "code",
   "execution_count": 191,
   "metadata": {},
   "outputs": [
    {
     "data": {
      "text/plain": [
       "<matplotlib.legend.Legend at 0x132c597f60>"
      ]
     },
     "execution_count": 191,
     "metadata": {},
     "output_type": "execute_result"
    },
    {
     "data": {
      "image/png": "[encoded data removed]",
      "text/plain": [
       "<Figure size 432x288 with 1 Axes>"
      ]
     },
     "metadata": {
      "needs_background": "light"
     },
     "output_type": "display_data"
    }
   ],
   "source": [
    "freq_grid = np.fft.fftfreq(len(start_grid))/dt*2*np.pi\n",
    "freq_grid ,\n",
    "plt.plot(freq_grid,-construct_fourier_trial(x,start_grid).real, \"-r\")\n",
    "plt.plot(freq_grid,construct_fourier_trial(x,start_grid).imag, \"-b\")\n",
    "plt.plot(RDfreqs/dt*2*np.pi, np.real(np.fft.fft(CompRingdown*dt)), \"-y\", label = \"real\")\n",
    "plt.plot(RDfreqs/dt*2*np.pi, np.imag(np.fft.fft(CompRingdown*dt)), \"-g\", label = \"imaginary\")\n",
    "plt.xlim(-.5,1)\n",
    "plt.legend()"
   ]
  },
  {
   "cell_type": "code",
   "execution_count": 31,
   "metadata": {},
   "outputs": [],
   "source": [
    "x=  [-0.13606071, -0.49714526,  0.57386971,  0.19936042, -0.17841525, -0.22529233,\n",
    " -0.79211878,  0.81291094,  1.82134868, -1.01990778, -1.58213345,  0.47307812,\n",
    "  0.47741951, -0.04138658,  0.68810123,  0.94885669]"
   ]
  },
  {
   "cell_type": "code",
   "execution_count": 104,
   "metadata": {},
   "outputs": [
    {
     "data": {
      "text/plain": [
       "(-0.5, 1)"
      ]
     },
     "execution_count": 104,
     "metadata": {},
     "output_type": "execute_result"
    },
    {
     "data": {
      "image/png": "[encoded data removed]",
      "text/plain": [
       "<Figure size 432x288 with 1 Axes>"
      ]
     },
     "metadata": {
      "needs_background": "light"
     },
     "output_type": "display_data"
    }
   ],
   "source": [
    "plt.plot(freq_grid,-construct_fourier_trial(x,start_grid).real, \"-r\")\n",
    "plt.xlim(-.5,1)"
   ]
  },
  {
   "cell_type": "code",
   "execution_count": 218,
   "metadata": {},
   "outputs": [
    {
     "name": "stdout",
     "output_type": "stream",
     "text": [
      "0.5154279060607523 -2.87445031611319\n",
      "0.6075121571771716 1.2364426220409732\n",
      "0.28738238531509097 -2.471793227621467\n",
      "1.135022624444276 -0.77244451103006\n",
      "2.0874680581609555 2.081264803002665\n",
      "1.6513476802998321 -1.2802454853545244\n",
      "0.47921001401550084 1.6572682307312905\n"
     ]
    }
   ],
   "source": [
    "time_space_trial = construct_complex_trial_from_grid(x, start_grid)"
   ]
  },
  {
   "cell_type": "code",
   "execution_count": 159,
   "metadata": {},
   "outputs": [
    {
     "data": {
      "image/png": "[encoded data removed]",
      "text/plain": [
       "<Figure size 432x288 with 1 Axes>"
      ]
     },
     "metadata": {
      "needs_background": "light"
     },
     "output_type": "display_data"
    }
   ],
   "source": [
    "plt.plot(time_space_trial.real)\n",
    "plt.plot(time_space_trial.imag)\n",
    "plt.show()"
   ]
  },
  {
   "cell_type": "code",
   "execution_count": 89,
   "metadata": {},
   "outputs": [
    {
     "data": {
      "text/plain": [
       "array([0.00000000e+00, 9.99880441e-02, 1.99975969e-01, ...,\n",
       "       1.51777116e+02, 1.51877112e+02, 1.51977108e+02])"
      ]
     },
     "execution_count": 89,
     "metadata": {},
     "output_type": "execute_result"
    }
   ],
   "source": [
    "start_grid"
   ]
  },
  {
   "cell_type": "code",
   "execution_count": 90,
   "metadata": {},
   "outputs": [
    {
     "data": {
      "text/plain": [
       "[array([1.00000000e+00+0.00000000e+00j, 9.90547986e-01-5.28002247e-02j,\n",
       "        9.78397464e-01-1.04602251e-01j, ...,\n",
       "        3.13697287e-06+3.53426079e-06j, 3.29394413e-06+3.33520568e-06j,\n",
       "        3.43892057e-06+3.12974342e-06j]),\n",
       " array([ 1.00000000e+00+0.00000000e+00j,  9.74550203e-01-5.08296772e-02j,\n",
       "         9.47164476e-01-9.90720884e-02j, ...,\n",
       "        -6.74038262e-17+4.23021282e-17j, -6.35378954e-17+4.46518419e-17j,\n",
       "        -5.96509154e-17+4.67452314e-17j]),\n",
       " array([1.00000000e+00+0.00000000e+00j, 9.58418281e-01-4.79461385e-02j,\n",
       "        9.16266819e-01-9.19048611e-02j, ...,\n",
       "        5.94539722e-28-3.06587259e-28j, 5.55114910e-28-3.22345887e-28j,\n",
       "        5.16573958e-28-3.35558776e-28j]),\n",
       " array([ 1.00000000e+00+0.00000000e+00j,  9.42203478e-01-4.44370643e-02j,\n",
       "         8.85772808e-01-8.37374690e-02j, ...,\n",
       "        -2.30094273e-39-2.01225731e-39j, -2.25737122e-39-1.79369162e-39j,\n",
       "        -2.20660504e-39-1.58969561e-39j]),\n",
       " array([ 1.00000000e+00+0.00000000e+00j,  9.26500467e-01-4.08231995e-02j,\n",
       "         8.56736663e-01-7.56453886e-02j, ...,\n",
       "        -1.32921108e-50+1.56572998e-50j, -1.16758410e-50+1.50490719e-50j,\n",
       "        -1.02032074e-50+1.44195658e-50j]),\n",
       " array([1.00000000e+00+0.00000000e+00j, 9.11484598e-01-3.86153122e-02j,\n",
       "        8.29313124e-01-7.03944904e-02j, ...,\n",
       "        4.10823632e-62-3.08066280e-61j, 2.55487094e-62-2.82382069e-61j,\n",
       "        1.23820068e-62-2.58371603e-61j]),\n",
       " array([ 1.00000000e+00+0.00000000e+00j,  8.95452619e-01-3.79722773e-02j,\n",
       "         8.00393607e-01-6.80047187e-02j, ...,\n",
       "         4.44991491e-74-6.22371878e-73j,  1.62119431e-74-5.58989368e-73j,\n",
       "        -6.71073063e-75-5.01159635e-73j])]"
      ]
     },
     "execution_count": 90,
     "metadata": {},
     "output_type": "execute_result"
    }
   ],
   "source": [
    "get_complex_test_funcs(.7, start_grid)"
   ]
  },
  {
   "cell_type": "code",
   "execution_count": 82,
   "metadata": {},
   "outputs": [
    {
     "data": {
      "text/plain": [
       "array([0.00000000e+00, 9.99880441e-02, 1.99975969e-01, ...,\n",
       "       1.51777116e+02, 1.51877112e+02, 1.51977108e+02])"
      ]
     },
     "execution_count": 82,
     "metadata": {},
     "output_type": "execute_result"
    }
   ],
   "source": [
    "start_grid - start_grid[0]"
   ]
  },
  {
   "cell_type": "code",
   "execution_count": 219,
   "metadata": {},
   "outputs": [
    {
     "data": {
      "text/plain": [
       "(-0.5, 1)"
      ]
     },
     "execution_count": 219,
     "metadata": {},
     "output_type": "execute_result"
    },
    {
     "data": {
      "image/png": "[encoded data removed]",
      "text/plain": [
       "<Figure size 432x288 with 1 Axes>"
      ]
     },
     "metadata": {
      "needs_background": "light"
     },
     "output_type": "display_data"
    }
   ],
   "source": [
    "plt.plot(-freq_grid, np.real(np.fft.fft(time_space_trial*dt)), \"-y\", label = \"real\")\n",
    "plt.plot(-freq_grid, np.imag(np.fft.fft(time_space_trial*dt)), \"-g\", label = \"imaginary\")\n",
    "plt.xlim(-.5,1)"
   ]
  },
  {
   "cell_type": "code",
   "execution_count": 194,
   "metadata": {},
   "outputs": [
    {
     "data": {
      "text/plain": [
       "1.1071487177940904"
      ]
     },
     "execution_count": 194,
     "metadata": {},
     "output_type": "execute_result"
    }
   ],
   "source": [
    "np.arctan2(2,1)"
   ]
  },
  {
   "cell_type": "code",
   "execution_count": null,
   "metadata": {},
   "outputs": [],
   "source": []
  }
 ],
 "metadata": {
  "kernelspec": {
   "display_name": "Python 3",
   "language": "python",
   "name": "python3"
  },
  "language_info": {
   "codemirror_mode": {
    "name": "ipython",
    "version": 3
   },
   "file_extension": ".py",
   "mimetype": "text/x-python",
   "name": "python",
   "nbconvert_exporter": "python",
   "pygments_lexer": "ipython3",
   "version": "3.7.3"
  }
 },
 "nbformat": 4,
 "nbformat_minor": 2
}
